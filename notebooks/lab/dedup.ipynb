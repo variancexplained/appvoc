{
    "cells": [
        {
            "attachments": {},
            "cell_type": "markdown",
            "metadata": {},
            "source": [
                "# Dedup"
            ]
        },
        {
            "cell_type": "code",
            "execution_count": 1,
            "metadata": {},
            "outputs": [],
            "source": [
                "from appvoc.container import AppVoCContainer\n",
                "container = AppVoCContainer()\n",
                "container.init_resources()\n",
                "container.wire(packages=[\"appvoc.data.acquisition\"])"
            ]
        },
        {
            "cell_type": "code",
            "execution_count": 2,
            "metadata": {},
            "outputs": [
                {
                    "name": "stderr",
                    "output_type": "stream",
                    "text": [
                        "[08/30/2023 08:20:51 PM] [INFO] [AppDataRepo] [dedup] : Repository with 506789 observations dropped 14091 duplicates leaving 492698 observations\n"
                    ]
                }
            ],
            "source": [
                "repo = container.data.appdata_repo()\n",
                "repo.dedup()"
            ]
        }
    ],
    "metadata": {
        "kernelspec": {
            "display_name": "appvoc",
            "language": "python",
            "name": "python3"
        },
        "language_info": {
            "codemirror_mode": {
                "name": "ipython",
                "version": 3
            },
            "file_extension": ".py",
            "mimetype": "text/x-python",
            "name": "python",
            "nbconvert_exporter": "python",
            "pygments_lexer": "ipython3",
            "version": "3.10.12"
        },
        "orig_nbformat": 4
    },
    "nbformat": 4,
    "nbformat_minor": 2
}