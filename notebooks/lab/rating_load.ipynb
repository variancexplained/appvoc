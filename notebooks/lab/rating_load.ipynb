{
    "cells": [
        {
            "attachments": {},
            "cell_type": "markdown",
            "metadata": {},
            "source": [
                "# Rating\n",
                "ENVIRONMENT MUST BE TEST. CHANGE IT\n",
                "Adds 2 categories of 5 apps each. "
            ]
        },
        {
            "cell_type": "code",
            "execution_count": 1,
            "metadata": {},
            "outputs": [],
            "source": [
                "import os\n",
                "import pandas as pd\n",
                "from appvoc.container import AppVoCContainer\n",
                "from appvoc.infrastructure.file.io import IOService"
            ]
        },
        {
            "cell_type": "code",
            "execution_count": 2,
            "metadata": {},
            "outputs": [],
            "source": [
                "container = AppVoCContainer()\n",
                "container.init_resources()\n",
                "container.wire(packages=[\"appvoc.data.acquisition\"])"
            ]
        },
        {
            "cell_type": "code",
            "execution_count": 3,
            "metadata": {},
            "outputs": [],
            "source": [
                "TF = \"data/archive/rating/rating_07-29-2023_17-17-07.pkl\"\n",
                "ARCHIVE = \"tests/data/rating/rating.csv\""
            ]
        },
        {
            "cell_type": "code",
            "execution_count": 4,
            "metadata": {},
            "outputs": [
                {
                    "data": {
                        "text/plain": [
                            "category_id\n",
                            "6015    58300\n",
                            "6020    31800\n",
                            "6013    28800\n",
                            "6012    20500\n",
                            "6008    17900\n",
                            "6023    17900\n",
                            "6007     1900\n",
                            "Name: count, dtype: int64"
                        ]
                    },
                    "execution_count": 4,
                    "metadata": {},
                    "output_type": "execute_result"
                }
            ],
            "source": [
                "df = IOService.read(TF, index=False)\n",
                "df['category_id'].value_counts()\n",
                "s1 = df.loc[(df['category_id'] == \"6015\") & (df['ratings']>100)].sample(n=5, random_state=5)\n",
                "s2 = df.loc[(df['category_id'] == \"6020\") & (df['ratings']>100)].sample(n=5, random_state=5)\n",
                "s3 = df.loc[(df['category_id'] == \"6013\") & (df['ratings']>100)].sample(n=5, random_state=5)\n",
                "ratings = pd.concat([s1,s2,s3], axis=0)"
            ]
        },
        {
            "cell_type": "code",
            "execution_count": 5,
            "metadata": {},
            "outputs": [
                {
                    "name": "stderr",
                    "output_type": "stream",
                    "text": [
                        "[08/09/2023 02:54:48 AM] [DEBUG] [RatingRepo] [replace] : Replace rating repository data with 10 rows.\n"
                    ]
                },
                {
                    "data": {
                        "text/html": [
                            "<div>\n",
                            "<style scoped>\n",
                            "    .dataframe tbody tr th:only-of-type {\n",
                            "        vertical-align: middle;\n",
                            "    }\n",
                            "\n",
                            "    .dataframe tbody tr th {\n",
                            "        vertical-align: top;\n",
                            "    }\n",
                            "\n",
                            "    .dataframe thead th {\n",
                            "        text-align: right;\n",
                            "    }\n",
                            "</style>\n",
                            "<table border=\"1\" class=\"dataframe\">\n",
                            "  <thead>\n",
                            "    <tr style=\"text-align: right;\">\n",
                            "      <th></th>\n",
                            "      <th>Category</th>\n",
                            "      <th>Reviews</th>\n",
                            "      <th>Apps</th>\n",
                            "      <th>Average Rating</th>\n",
                            "    </tr>\n",
                            "  </thead>\n",
                            "  <tbody>\n",
                            "    <tr>\n",
                            "      <th>0</th>\n",
                            "      <td>Finance</td>\n",
                            "      <td>5</td>\n",
                            "      <td>5</td>\n",
                            "      <td>4.50</td>\n",
                            "    </tr>\n",
                            "    <tr>\n",
                            "      <th>1</th>\n",
                            "      <td>Medical</td>\n",
                            "      <td>5</td>\n",
                            "      <td>5</td>\n",
                            "      <td>4.90</td>\n",
                            "    </tr>\n",
                            "  </tbody>\n",
                            "</table>\n",
                            "</div>"
                        ],
                        "text/plain": [
                            "  Category  Reviews  Apps  Average Rating\n",
                            "0  Finance        5     5            4.50\n",
                            "1  Medical        5     5            4.90"
                        ]
                    },
                    "execution_count": 5,
                    "metadata": {},
                    "output_type": "execute_result"
                }
            ],
            "source": [
                "repo = container.data.rating_repo()\n",
                "repo.replace(ratings)\n",
                "repo.summary"
            ]
        },
        {
            "cell_type": "code",
            "execution_count": 6,
            "metadata": {},
            "outputs": [
                {
                    "data": {
                        "text/html": [
                            "<div>\n",
                            "<style scoped>\n",
                            "    .dataframe tbody tr th:only-of-type {\n",
                            "        vertical-align: middle;\n",
                            "    }\n",
                            "\n",
                            "    .dataframe tbody tr th {\n",
                            "        vertical-align: top;\n",
                            "    }\n",
                            "\n",
                            "    .dataframe thead th {\n",
                            "        text-align: right;\n",
                            "    }\n",
                            "</style>\n",
                            "<table border=\"1\" class=\"dataframe\">\n",
                            "  <thead>\n",
                            "    <tr style=\"text-align: right;\">\n",
                            "      <th></th>\n",
                            "      <th>id</th>\n",
                            "      <th>name</th>\n",
                            "      <th>category_id</th>\n",
                            "      <th>category</th>\n",
                            "      <th>rating</th>\n",
                            "      <th>reviews</th>\n",
                            "      <th>ratings</th>\n",
                            "      <th>onestar</th>\n",
                            "      <th>twostar</th>\n",
                            "      <th>threestar</th>\n",
                            "      <th>fourstar</th>\n",
                            "      <th>fivestar</th>\n",
                            "      <th>status</th>\n",
                            "    </tr>\n",
                            "  </thead>\n",
                            "  <tbody>\n",
                            "    <tr>\n",
                            "      <th>4</th>\n",
                            "      <td>1638776636</td>\n",
                            "      <td>Bath State Bank</td>\n",
                            "      <td>6015</td>\n",
                            "      <td>Finance</td>\n",
                            "      <td>5.00</td>\n",
                            "      <td>1</td>\n",
                            "      <td>155</td>\n",
                            "      <td>1</td>\n",
                            "      <td>1</td>\n",
                            "      <td>0</td>\n",
                            "      <td>4</td>\n",
                            "      <td>149</td>\n",
                            "      <td>1</td>\n",
                            "    </tr>\n",
                            "    <tr>\n",
                            "      <th>6</th>\n",
                            "      <td>922968861</td>\n",
                            "      <td>Sanvello: Anxiety &amp; Depression</td>\n",
                            "      <td>6020</td>\n",
                            "      <td>Medical</td>\n",
                            "      <td>5.00</td>\n",
                            "      <td>2454</td>\n",
                            "      <td>22360</td>\n",
                            "      <td>363</td>\n",
                            "      <td>163</td>\n",
                            "      <td>505</td>\n",
                            "      <td>2458</td>\n",
                            "      <td>18871</td>\n",
                            "      <td>1</td>\n",
                            "    </tr>\n",
                            "    <tr>\n",
                            "      <th>2</th>\n",
                            "      <td>1276617079</td>\n",
                            "      <td>Coffee County Bank</td>\n",
                            "      <td>6015</td>\n",
                            "      <td>Finance</td>\n",
                            "      <td>5.00</td>\n",
                            "      <td>2</td>\n",
                            "      <td>159</td>\n",
                            "      <td>2</td>\n",
                            "      <td>1</td>\n",
                            "      <td>2</td>\n",
                            "      <td>8</td>\n",
                            "      <td>146</td>\n",
                            "      <td>1</td>\n",
                            "    </tr>\n",
                            "    <tr>\n",
                            "      <th>7</th>\n",
                            "      <td>1496660234</td>\n",
                            "      <td>Virtual Second Opinion</td>\n",
                            "      <td>6020</td>\n",
                            "      <td>Medical</td>\n",
                            "      <td>5.00</td>\n",
                            "      <td>2</td>\n",
                            "      <td>181</td>\n",
                            "      <td>0</td>\n",
                            "      <td>0</td>\n",
                            "      <td>3</td>\n",
                            "      <td>5</td>\n",
                            "      <td>173</td>\n",
                            "      <td>1</td>\n",
                            "    </tr>\n",
                            "    <tr>\n",
                            "      <th>3</th>\n",
                            "      <td>395031470</td>\n",
                            "      <td>ICCU Mobile Banking</td>\n",
                            "      <td>6015</td>\n",
                            "      <td>Finance</td>\n",
                            "      <td>5.00</td>\n",
                            "      <td>708</td>\n",
                            "      <td>53672</td>\n",
                            "      <td>179</td>\n",
                            "      <td>119</td>\n",
                            "      <td>673</td>\n",
                            "      <td>4563</td>\n",
                            "      <td>48138</td>\n",
                            "      <td>1</td>\n",
                            "    </tr>\n",
                            "  </tbody>\n",
                            "</table>\n",
                            "</div>"
                        ],
                        "text/plain": [
                            "           id                            name category_id category  rating  \\\n",
                            "4  1638776636                 Bath State Bank        6015  Finance    5.00   \n",
                            "6   922968861  Sanvello: Anxiety & Depression        6020  Medical    5.00   \n",
                            "2  1276617079              Coffee County Bank        6015  Finance    5.00   \n",
                            "7  1496660234          Virtual Second Opinion        6020  Medical    5.00   \n",
                            "3   395031470             ICCU Mobile Banking        6015  Finance    5.00   \n",
                            "\n",
                            "   reviews  ratings  onestar  twostar  threestar  fourstar  fivestar  status  \n",
                            "4        1      155        1        1          0         4       149       1  \n",
                            "6     2454    22360      363      163        505      2458     18871       1  \n",
                            "2        2      159        2        1          2         8       146       1  \n",
                            "7        2      181        0        0          3         5       173       1  \n",
                            "3      708    53672      179      119        673      4563     48138       1  "
                        ]
                    },
                    "execution_count": 6,
                    "metadata": {},
                    "output_type": "execute_result"
                }
            ],
            "source": [
                "repo.sample()"
            ]
        }
    ],
    "metadata": {
        "kernelspec": {
            "display_name": "appvoc",
            "language": "python",
            "name": "python3"
        },
        "language_info": {
            "codemirror_mode": {
                "name": "ipython",
                "version": 3
            },
            "file_extension": ".py",
            "mimetype": "text/x-python",
            "name": "python",
            "nbconvert_exporter": "python",
            "pygments_lexer": "ipython3",
            "version": "3.10.12"
        },
        "orig_nbformat": 4
    },
    "nbformat": 4,
    "nbformat_minor": 2
}