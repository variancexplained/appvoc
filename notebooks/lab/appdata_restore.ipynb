{
    "cells": [
        {
            "attachments": {},
            "cell_type": "markdown",
            "metadata": {},
            "source": [
                "# App Data\n",
                "Obtains app data for testing "
            ]
        },
        {
            "cell_type": "code",
            "execution_count": 1,
            "metadata": {},
            "outputs": [],
            "source": [
                "import os\n",
                "import pandas as pd\n",
                "from appvoc.container import AppVoCContainer\n",
                "from appvoc.infrastructure.file.io import IOService"
            ]
        },
        {
            "cell_type": "code",
            "execution_count": 2,
            "metadata": {},
            "outputs": [],
            "source": [
                "container = AppVoCContainer()\n",
                "container.init_resources()\n",
                "container.wire(packages=[\"appvoc.data.acquisition\"])"
            ]
        },
        {
            "cell_type": "code",
            "execution_count": 3,
            "metadata": {},
            "outputs": [
                {
                    "name": "stdout",
                    "output_type": "stream",
                    "text": [
                        "<class 'pandas.core.frame.DataFrame'>\n",
                        "Index: 475132 entries, 12340 to 678136\n",
                        "Data columns (total 11 columns):\n",
                        " #   Column        Non-Null Count   Dtype  \n",
                        "---  ------        --------------   -----  \n",
                        " 0   id            475132 non-null  int64  \n",
                        " 1   name          475132 non-null  object \n",
                        " 2   description   475132 non-null  object \n",
                        " 3   category_id   475132 non-null  int64  \n",
                        " 4   category      475132 non-null  object \n",
                        " 5   price         475132 non-null  float64\n",
                        " 6   developer_id  475132 non-null  int64  \n",
                        " 7   developer     475132 non-null  object \n",
                        " 8   rating        475132 non-null  float64\n",
                        " 9   ratings       475132 non-null  int64  \n",
                        " 10  released      475132 non-null  object \n",
                        "dtypes: float64(2), int64(4), object(5)\n",
                        "memory usage: 43.5+ MB\n",
                        "Added 475132 rows.\n",
                        "<class 'pandas.core.frame.DataFrame'>\n",
                        "RangeIndex: 475132 entries, 0 to 475131\n",
                        "Data columns (total 11 columns):\n",
                        " #   Column        Non-Null Count   Dtype  \n",
                        "---  ------        --------------   -----  \n",
                        " 0   id            475132 non-null  int64  \n",
                        " 1   name          475132 non-null  object \n",
                        " 2   description   475132 non-null  object \n",
                        " 3   category_id   475132 non-null  int64  \n",
                        " 4   category      475132 non-null  object \n",
                        " 5   price         475132 non-null  float64\n",
                        " 6   developer_id  475132 non-null  int64  \n",
                        " 7   developer     475132 non-null  object \n",
                        " 8   rating        475132 non-null  float64\n",
                        " 9   ratings       475132 non-null  int64  \n",
                        " 10  released      475132 non-null  object \n",
                        "dtypes: float64(2), int64(4), object(5)\n",
                        "memory usage: 39.9+ MB\n"
                    ]
                }
            ],
            "source": [
                "repo = container.data.appdata_repo()\n",
                "FP = \"data/appdata/appdata.pkl\"\n",
                "df = IOService.read(FP)\n",
                "df.info()\n",
                "repo.load(data=df)\n",
                "print(f\"Added {df.shape[0]} rows.\")\n",
                "df = repo.getall()\n",
                "df.info()"
            ]
        }
    ],
    "metadata": {
        "kernelspec": {
            "display_name": "appvoc",
            "language": "python",
            "name": "python3"
        },
        "language_info": {
            "codemirror_mode": {
                "name": "ipython",
                "version": 3
            },
            "file_extension": ".py",
            "mimetype": "text/x-python",
            "name": "python",
            "nbconvert_exporter": "python",
            "pygments_lexer": "ipython3",
            "version": "3.10.11"
        },
        "orig_nbformat": 4
    },
    "nbformat": 4,
    "nbformat_minor": 2
}