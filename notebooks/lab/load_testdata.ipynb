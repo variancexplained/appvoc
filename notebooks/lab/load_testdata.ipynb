{
    "cells": [
        {
            "cell_type": "markdown",
            "metadata": {},
            "source": [
                "# Load Test Data\n",
                "MODE MUST BE TEST, CHANGE IT NOW."
            ]
        },
        {
            "cell_type": "code",
            "execution_count": 1,
            "metadata": {},
            "outputs": [],
            "source": [
                "import os\n",
                "import pandas as pd\n",
                "from appvoc.container import AppVoCContainer\n",
                "from appvoc.infrastructure.file.io import IOService"
            ]
        },
        {
            "cell_type": "code",
            "execution_count": 2,
            "metadata": {},
            "outputs": [],
            "source": [
                "container = AppVoCContainer()\n",
                "container.init_resources()\n",
                "container.wire(packages=[\"appvoc.data.acquisition\"])"
            ]
        },
        {
            "cell_type": "code",
            "execution_count": 3,
            "metadata": {},
            "outputs": [],
            "source": [
                "app_filepath = \"tests/data/repo/testdata/app.pkl\"\n",
                "rating_filepath = \"tests/data/repo/testdata/rating.pkl\"\n",
                "review_filepath = \"tests/data/repo/testdata/review.pkl\""
            ]
        },
        {
            "cell_type": "markdown",
            "metadata": {},
            "source": [
                "## AppData"
            ]
        },
        {
            "cell_type": "code",
            "execution_count": 4,
            "metadata": {},
            "outputs": [
                {
                    "name": "stderr",
                    "output_type": "stream",
                    "text": [
                        "[08/27/2023 06:36:45 AM] [DEBUG] [AppDataRepo] [replace] : Replaced app repository data with 100 rows.\n"
                    ]
                }
            ],
            "source": [
                "repo = container.data.app_repo()\n",
                "data = IOService.read(filepath=app_filepath)\n",
                "repo.replace(data=data)"
            ]
        },
        {
            "cell_type": "markdown",
            "metadata": {},
            "source": [
                "## Rating"
            ]
        },
        {
            "cell_type": "code",
            "execution_count": 5,
            "metadata": {},
            "outputs": [
                {
                    "name": "stderr",
                    "output_type": "stream",
                    "text": [
                        "[08/27/2023 06:36:45 AM] [DEBUG] [RatingRepo] [replace] : Replace rating repository data with 100 rows.\n"
                    ]
                }
            ],
            "source": [
                "repo = container.data.rating_repo()\n",
                "data = IOService.read(filepath=rating_filepath)\n",
                "repo.replace(data=data)"
            ]
        },
        {
            "cell_type": "markdown",
            "metadata": {},
            "source": [
                "## Review"
            ]
        },
        {
            "cell_type": "code",
            "execution_count": 6,
            "metadata": {},
            "outputs": [
                {
                    "name": "stderr",
                    "output_type": "stream",
                    "text": [
                        "[08/27/2023 06:36:45 AM] [DEBUG] [ReviewRepo] [replace] : Replace review repository data with 100 rows.\n"
                    ]
                }
            ],
            "source": [
                "repo = container.data.review_repo()\n",
                "data = IOService.read(filepath=review_filepath)\n",
                "repo.replace(data=data)"
            ]
        }
    ],
    "metadata": {
        "kernelspec": {
            "display_name": "appvoc",
            "language": "python",
            "name": "python3"
        },
        "language_info": {
            "codemirror_mode": {
                "name": "ipython",
                "version": 3
            },
            "file_extension": ".py",
            "mimetype": "text/x-python",
            "name": "python",
            "nbconvert_exporter": "python",
            "pygments_lexer": "ipython3",
            "version": "3.10.12"
        },
        "orig_nbformat": 4
    },
    "nbformat": 4,
    "nbformat_minor": 2
}