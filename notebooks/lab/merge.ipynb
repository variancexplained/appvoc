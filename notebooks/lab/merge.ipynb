{
    "cells": [
        {
            "cell_type": "markdown",
            "metadata": {},
            "source": [
                "# Merge\n",
                "This notebook merges all archive files and saves a zip compressed CSV file to be uploaded into Amazon S3."
            ]
        },
        {
            "cell_type": "code",
            "execution_count": 1,
            "metadata": {},
            "outputs": [],
            "source": [
                "import os\n",
                "from glob import glob\n",
                "import pandas as pd\n",
                "from tqdm import tqdm\n",
                "\n",
                "from appvoc.infrastructure.file.io import IOService"
            ]
        },
        {
            "cell_type": "code",
            "execution_count": 2,
            "metadata": {},
            "outputs": [
                {
                    "name": "stdout",
                    "output_type": "stream",
                    "text": [
                        "100000000.0\n"
                    ]
                }
            ],
            "source": [
                "MINFILESIZE = 1e8\n",
                "APPDATA_FILES = \"data/appvoc/archive/appdata*.pkl\"\n",
                "REVIEW_FILES = \"data/appvoc/archive/reviews*.pkl\"\n",
                "APPDATA_DESTINATION = \"data/appdata/appdata.pkl\"\n",
                "APPDATA_GZIP = \"data/appdata/appdata.csv.gzip\"\n",
                "REVIEWS_DESTINATION = \"data/reviews/reviews.pkl\"\n",
                "REVIEWS_GZIP = \"data/reviews/reviews.tsv.gzip\"\n",
                "print(MINFILESIZE)"
            ]
        },
        {
            "cell_type": "code",
            "execution_count": 3,
            "metadata": {},
            "outputs": [],
            "source": [
                "def get_filenames(wildcard):\n",
                "    files = []\n",
                "    filelist = glob(wildcard)\n",
                "    for file in filelist:\n",
                "        if os.path.getsize(file) > MINFILESIZE:\n",
                "            files.append(file)\n",
                "    return sorted(files)"
            ]
        },
        {
            "cell_type": "code",
            "execution_count": 4,
            "metadata": {},
            "outputs": [],
            "source": [
                "class Merger:\n",
                "    def __init__(self) -> None:\n",
                "        self._df = pd.DataFrame()\n",
                "    def __call__(self, destination, filelist, key = 'id') -> None:\n",
                "        for file in tqdm(filelist):\n",
                "            newdf = IOService.read(file)\n",
                "            newdf = newdf[[\"id\",\"name\",\"description\",\"category_id\",\"category\",\"price\",\"developer_id\",\"developer\",\"rating\",\"ratings\",\"released\"]]\n",
                "            self._df = pd.concat([self._df,newdf],axis=0)\n",
                "            self._df = self._df.drop_duplicates(subset=[key], keep=\"last\")\n",
                "        IOService.write(filepath=destination, data = self._df)\n",
                "merger = Merger()"
            ]
        },
        {
            "cell_type": "code",
            "execution_count": 5,
            "metadata": {},
            "outputs": [],
            "source": [
                "def to_gzip(source, destination, sep=\",\"):\n",
                "    df = IOService.read(source)\n",
                "    df.to_csv(destination, compression=\"gzip\", sep=sep, index=False)"
            ]
        },
        {
            "cell_type": "code",
            "execution_count": 6,
            "metadata": {},
            "outputs": [
                {
                    "name": "stderr",
                    "output_type": "stream",
                    "text": [
                        "100%|██████████| 47/47 [01:32<00:00,  1.97s/it]\n"
                    ]
                }
            ],
            "source": [
                "filelist = get_filenames(APPDATA_FILES)\n",
                "merger(destination=APPDATA_DESTINATION, filelist=filelist)\n",
                "to_gzip(source=APPDATA_DESTINATION, destination=APPDATA_GZIP)\n"
            ]
        },
        {
            "cell_type": "code",
            "execution_count": 7,
            "metadata": {},
            "outputs": [
                {
                    "name": "stdout",
                    "output_type": "stream",
                    "text": [
                        "<class 'pandas.core.frame.DataFrame'>\n",
                        "Index: 475132 entries, 12340 to 678136\n",
                        "Data columns (total 11 columns):\n",
                        " #   Column        Non-Null Count   Dtype  \n",
                        "---  ------        --------------   -----  \n",
                        " 0   id            475132 non-null  int64  \n",
                        " 1   name          475132 non-null  object \n",
                        " 2   description   475132 non-null  object \n",
                        " 3   category_id   475132 non-null  int64  \n",
                        " 4   category      475132 non-null  object \n",
                        " 5   price         475132 non-null  float64\n",
                        " 6   developer_id  475132 non-null  int64  \n",
                        " 7   developer     475132 non-null  object \n",
                        " 8   rating        475132 non-null  float64\n",
                        " 9   ratings       475132 non-null  int64  \n",
                        " 10  released      475132 non-null  object \n",
                        "dtypes: float64(2), int64(4), object(5)\n",
                        "memory usage: 43.5+ MB\n"
                    ]
                },
                {
                    "data": {
                        "text/html": [
                            "<div>\n",
                            "<style scoped>\n",
                            "    .dataframe tbody tr th:only-of-type {\n",
                            "        vertical-align: middle;\n",
                            "    }\n",
                            "\n",
                            "    .dataframe tbody tr th {\n",
                            "        vertical-align: top;\n",
                            "    }\n",
                            "\n",
                            "    .dataframe thead th {\n",
                            "        text-align: right;\n",
                            "    }\n",
                            "</style>\n",
                            "<table border=\"1\" class=\"dataframe\">\n",
                            "  <thead>\n",
                            "    <tr style=\"text-align: right;\">\n",
                            "      <th></th>\n",
                            "      <th>id</th>\n",
                            "      <th>name</th>\n",
                            "      <th>description</th>\n",
                            "      <th>category_id</th>\n",
                            "      <th>category</th>\n",
                            "      <th>price</th>\n",
                            "      <th>developer_id</th>\n",
                            "      <th>developer</th>\n",
                            "      <th>rating</th>\n",
                            "      <th>ratings</th>\n",
                            "      <th>released</th>\n",
                            "    </tr>\n",
                            "  </thead>\n",
                            "  <tbody>\n",
                            "    <tr>\n",
                            "      <th>12340</th>\n",
                            "      <td>6446790238</td>\n",
                            "      <td>Mood Tracker :</td>\n",
                            "      <td>Understanding and managing your emotions is cr...</td>\n",
                            "      <td>6013</td>\n",
                            "      <td>Health &amp; Fitness</td>\n",
                            "      <td>0.00</td>\n",
                            "      <td>1436021751</td>\n",
                            "      <td>CARECLINIC SOFTWARE INC.</td>\n",
                            "      <td>5.00</td>\n",
                            "      <td>6</td>\n",
                            "      <td>2023-04-18 07:00:00</td>\n",
                            "    </tr>\n",
                            "    <tr>\n",
                            "      <th>13007</th>\n",
                            "      <td>6447916914</td>\n",
                            "      <td>Empire App Virtual</td>\n",
                            "      <td>With the Empire App, you can:\\n\\n-join our gym...</td>\n",
                            "      <td>6013</td>\n",
                            "      <td>Health &amp; Fitness</td>\n",
                            "      <td>0.00</td>\n",
                            "      <td>1603858924</td>\n",
                            "      <td>Body Evolution Warfighter LLC</td>\n",
                            "      <td>0.00</td>\n",
                            "      <td>0</td>\n",
                            "      <td>2023-04-21 07:00:00</td>\n",
                            "    </tr>\n",
                            "    <tr>\n",
                            "      <th>13256</th>\n",
                            "      <td>6448082493</td>\n",
                            "      <td>CrossFit 926</td>\n",
                            "      <td>For members of CrossFit 926 to reserve their p...</td>\n",
                            "      <td>6013</td>\n",
                            "      <td>Health &amp; Fitness</td>\n",
                            "      <td>0.00</td>\n",
                            "      <td>688595778</td>\n",
                            "      <td>PushPress</td>\n",
                            "      <td>0.00</td>\n",
                            "      <td>0</td>\n",
                            "      <td>2023-04-21 07:00:00</td>\n",
                            "    </tr>\n",
                            "    <tr>\n",
                            "      <th>13821</th>\n",
                            "      <td>6447812886</td>\n",
                            "      <td>Shoreline CrossFit</td>\n",
                            "      <td>For members of Shoreline CrossFit to reserve t...</td>\n",
                            "      <td>6013</td>\n",
                            "      <td>Health &amp; Fitness</td>\n",
                            "      <td>0.00</td>\n",
                            "      <td>688595778</td>\n",
                            "      <td>PushPress</td>\n",
                            "      <td>0.00</td>\n",
                            "      <td>0</td>\n",
                            "      <td>2023-04-20 07:00:00</td>\n",
                            "    </tr>\n",
                            "    <tr>\n",
                            "      <th>14192</th>\n",
                            "      <td>1631374974</td>\n",
                            "      <td>myAxonics</td>\n",
                            "      <td>Find relief from your bladder and bowel contro...</td>\n",
                            "      <td>6013</td>\n",
                            "      <td>Health &amp; Fitness</td>\n",
                            "      <td>0.00</td>\n",
                            "      <td>1631374976</td>\n",
                            "      <td>Axonics Modulation Technologies</td>\n",
                            "      <td>0.00</td>\n",
                            "      <td>0</td>\n",
                            "      <td>2023-04-21 07:00:00</td>\n",
                            "    </tr>\n",
                            "  </tbody>\n",
                            "</table>\n",
                            "</div>"
                        ],
                        "text/plain": [
                            "               id                name  \\\n",
                            "12340  6446790238      Mood Tracker :   \n",
                            "13007  6447916914  Empire App Virtual   \n",
                            "13256  6448082493        CrossFit 926   \n",
                            "13821  6447812886  Shoreline CrossFit   \n",
                            "14192  1631374974           myAxonics   \n",
                            "\n",
                            "                                             description  category_id  \\\n",
                            "12340  Understanding and managing your emotions is cr...         6013   \n",
                            "13007  With the Empire App, you can:\\n\\n-join our gym...         6013   \n",
                            "13256  For members of CrossFit 926 to reserve their p...         6013   \n",
                            "13821  For members of Shoreline CrossFit to reserve t...         6013   \n",
                            "14192  Find relief from your bladder and bowel contro...         6013   \n",
                            "\n",
                            "               category  price  developer_id                        developer  \\\n",
                            "12340  Health & Fitness   0.00    1436021751         CARECLINIC SOFTWARE INC.   \n",
                            "13007  Health & Fitness   0.00    1603858924    Body Evolution Warfighter LLC   \n",
                            "13256  Health & Fitness   0.00     688595778                        PushPress   \n",
                            "13821  Health & Fitness   0.00     688595778                        PushPress   \n",
                            "14192  Health & Fitness   0.00    1631374976  Axonics Modulation Technologies   \n",
                            "\n",
                            "       rating  ratings             released  \n",
                            "12340    5.00        6  2023-04-18 07:00:00  \n",
                            "13007    0.00        0  2023-04-21 07:00:00  \n",
                            "13256    0.00        0  2023-04-21 07:00:00  \n",
                            "13821    0.00        0  2023-04-20 07:00:00  \n",
                            "14192    0.00        0  2023-04-21 07:00:00  "
                        ]
                    },
                    "execution_count": 7,
                    "metadata": {},
                    "output_type": "execute_result"
                }
            ],
            "source": [
                "df = IOService.read(APPDATA_DESTINATION)\n",
                "df.info()\n",
                "df.head()"
            ]
        }
    ],
    "metadata": {
        "kernelspec": {
            "display_name": "appvoc",
            "language": "python",
            "name": "python3"
        },
        "language_info": {
            "codemirror_mode": {
                "name": "ipython",
                "version": 3
            },
            "file_extension": ".py",
            "mimetype": "text/x-python",
            "name": "python",
            "nbconvert_exporter": "python",
            "pygments_lexer": "ipython3",
            "version": "3.10.11"
        },
        "orig_nbformat": 4
    },
    "nbformat": 4,
    "nbformat_minor": 2
}