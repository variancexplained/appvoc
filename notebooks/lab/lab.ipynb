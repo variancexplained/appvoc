{
    "cells": [
        {
            "cell_type": "code",
            "execution_count": 4,
            "metadata": {},
            "outputs": [
                {
                    "name": "stdout",
                    "output_type": "stream",
                    "text": [
                        "<class 'IPython.core.display.Image'>\n",
                        "8.14.0\n"
                    ]
                }
            ],
            "source": [
                "from IPython.display import Image\n",
                "\n",
                "import IPython\n",
                "\n",
                "print(Image)\n",
                "\n",
                "print(IPython.__version__)\n"
            ]
        },
        {
            "cell_type": "code",
            "execution_count": 4,
            "metadata": {},
            "outputs": [
                {
                    "name": "stdout",
                    "output_type": "stream",
                    "text": [
                        "<class 'pandas.core.frame.DataFrame'>\n",
                        "RangeIndex: 0 entries\n",
                        "Data columns (total 13 columns):\n",
                        " #   Column       Non-Null Count  Dtype         \n",
                        "---  ------       --------------  -----         \n",
                        " 0   id           0 non-null      string        \n",
                        " 1   app_id       0 non-null      string        \n",
                        " 2   app_name     0 non-null      string        \n",
                        " 3   category_id  0 non-null      category      \n",
                        " 4   category     0 non-null      category      \n",
                        " 5   author       0 non-null      string        \n",
                        " 6   rating       0 non-null      float64       \n",
                        " 7   title        0 non-null      string        \n",
                        " 8   content      0 non-null      string        \n",
                        " 9   vote_sum     0 non-null      int64         \n",
                        " 10  vote_count   0 non-null      int64         \n",
                        " 11  date         0 non-null      datetime64[ns]\n",
                        " 12  source       0 non-null      object        \n",
                        "dtypes: category(2), datetime64[ns](1), float64(1), int64(2), object(1), string(6)\n",
                        "memory usage: 124.0+ bytes\n"
                    ]
                }
            ],
            "source": [
                "filepath = \"data/archive/review/review_08-08-2023_12-26-19.pkl\"\n",
                "df = IOService.read(filepath=filepath)\n",
                "df.info()"
            ]
        },
        {
            "cell_type": "code",
            "execution_count": 3,
            "metadata": {},
            "outputs": [
                {
                    "data": {
                        "text/html": [
                            "<div>\n",
                            "<style scoped>\n",
                            "    .dataframe tbody tr th:only-of-type {\n",
                            "        vertical-align: middle;\n",
                            "    }\n",
                            "\n",
                            "    .dataframe tbody tr th {\n",
                            "        vertical-align: top;\n",
                            "    }\n",
                            "\n",
                            "    .dataframe thead th {\n",
                            "        text-align: right;\n",
                            "    }\n",
                            "</style>\n",
                            "<table border=\"1\" class=\"dataframe\">\n",
                            "  <thead>\n",
                            "    <tr style=\"text-align: right;\">\n",
                            "      <th></th>\n",
                            "      <th>category</th>\n",
                            "      <th>count</th>\n",
                            "    </tr>\n",
                            "  </thead>\n",
                            "  <tbody>\n",
                            "  </tbody>\n",
                            "</table>\n",
                            "</div>"
                        ],
                        "text/plain": [
                            "Empty DataFrame\n",
                            "Columns: [category, count]\n",
                            "Index: []"
                        ]
                    },
                    "execution_count": 3,
                    "metadata": {},
                    "output_type": "execute_result"
                }
            ],
            "source": [
                "df['category'].value_counts().reset_index()"
            ]
        }
    ],
    "metadata": {
        "kernelspec": {
            "display_name": "appvoc",
            "language": "python",
            "name": "python3"
        },
        "language_info": {
            "codemirror_mode": {
                "name": "ipython",
                "version": 3
            },
            "file_extension": ".py",
            "mimetype": "text/x-python",
            "name": "python",
            "nbconvert_exporter": "python",
            "pygments_lexer": "ipython3",
            "version": "3.10.12"
        },
        "orig_nbformat": 4
    },
    "nbformat": 4,
    "nbformat_minor": 2
}