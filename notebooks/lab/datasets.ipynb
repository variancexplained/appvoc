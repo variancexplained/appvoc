{
    "cells": [
        {
            "attachments": {},
            "cell_type": "markdown",
            "metadata": {},
            "source": [
                "# Archive\n",
                "ENVIRONMENT MUST BE PROD. CHANGE IT"
            ]
        },
        {
            "cell_type": "code",
            "execution_count": 1,
            "metadata": {},
            "outputs": [],
            "source": [
                "from appvoc.container import AppVoCContainer\n",
                "from appvoc.infrastructure.file.io import IOService"
            ]
        },
        {
            "cell_type": "code",
            "execution_count": 2,
            "metadata": {},
            "outputs": [],
            "source": [
                "APPDATA_ARCHIVE = \"data/archive/appdata/appdata_08-11-2023_01-23-03.pkl\"\n",
                "RATING_ARCHIVE = \"data/archive/rating/rating_08-11-2023_01-23-24.pkl\"\n",
                "REVIEW_ARCHIVE = \"data/archive/review/review_08-11-2023_01-23-31.pkl\""
            ]
        },
        {
            "cell_type": "code",
            "execution_count": 3,
            "metadata": {},
            "outputs": [],
            "source": [
                "APPDATA_TEST = \"tests/data/dataset/appdata.pkl\"\n",
                "RATING_TEST = \"tests/data/dataset/rating.pkl\"\n",
                "REVIEW_TEST = \"tests/data/dataset/review.pkl\""
            ]
        },
        {
            "cell_type": "code",
            "execution_count": 4,
            "metadata": {},
            "outputs": [],
            "source": [
                "def make_data(source, destination):\n",
                "    df = IOService.read(source)\n",
                "    s = df.sample(n=100)\n",
                "    IOService.write(filepath=destination, data=s)\n"
            ]
        },
        {
            "cell_type": "code",
            "execution_count": 5,
            "metadata": {},
            "outputs": [],
            "source": [
                "make_data(source=APPDATA_ARCHIVE, destination=APPDATA_TEST)\n",
                "make_data(source=RATING_ARCHIVE, destination=RATING_TEST)\n",
                "make_data(source=REVIEW_ARCHIVE, destination=REVIEW_TEST)"
            ]
        }
    ],
    "metadata": {
        "kernelspec": {
            "display_name": "appvoc",
            "language": "python",
            "name": "python3"
        },
        "language_info": {
            "codemirror_mode": {
                "name": "ipython",
                "version": 3
            },
            "file_extension": ".py",
            "mimetype": "text/x-python",
            "name": "python",
            "nbconvert_exporter": "python",
            "pygments_lexer": "ipython3",
            "version": "3.10.12"
        },
        "orig_nbformat": 4
    },
    "nbformat": 4,
    "nbformat_minor": 2
}