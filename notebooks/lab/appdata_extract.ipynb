{
    "cells": [
        {
            "attachments": {},
            "cell_type": "markdown",
            "metadata": {},
            "source": [
                "# App Data\n",
                "Obtains app data for testing "
            ]
        },
        {
            "cell_type": "code",
            "execution_count": 1,
            "metadata": {},
            "outputs": [],
            "source": [
                "import os\n",
                "import pandas as pd\n",
                "from appvoc.container import AppVoCContainer\n",
                "from appvoc.infrastructure.file.io import IOService"
            ]
        },
        {
            "cell_type": "code",
            "execution_count": 2,
            "metadata": {},
            "outputs": [],
            "source": [
                "container = AppVoCContainer()\n",
                "container.init_resources()\n",
                "container.wire(packages=[\"appvoc.data.acquisition\"])"
            ]
        },
        {
            "cell_type": "code",
            "execution_count": 3,
            "metadata": {},
            "outputs": [
                {
                    "name": "stdout",
                    "output_type": "stream",
                    "text": [
                        "<class 'pandas.core.frame.DataFrame'>\n",
                        "RangeIndex: 20 entries, 0 to 19\n",
                        "Data columns (total 12 columns):\n",
                        " #   Column        Non-Null Count  Dtype  \n",
                        "---  ------        --------------  -----  \n",
                        " 0   id            20 non-null     int64  \n",
                        " 1   name          20 non-null     object \n",
                        " 2   description   20 non-null     object \n",
                        " 3   category_id   20 non-null     int64  \n",
                        " 4   category      20 non-null     object \n",
                        " 5   price         20 non-null     float64\n",
                        " 6   developer_id  20 non-null     int64  \n",
                        " 7   developer     20 non-null     object \n",
                        " 8   rating        20 non-null     float64\n",
                        " 9   ratings       20 non-null     int64  \n",
                        " 10  released      20 non-null     object \n",
                        " 11  source        20 non-null     object \n",
                        "dtypes: float64(2), int64(4), object(6)\n",
                        "memory usage: 2.0+ KB\n",
                        "<class 'pandas.core.frame.DataFrame'>\n",
                        "RangeIndex: 20 entries, 0 to 19\n",
                        "Data columns (total 12 columns):\n",
                        " #   Column        Non-Null Count  Dtype  \n",
                        "---  ------        --------------  -----  \n",
                        " 0   id            20 non-null     int64  \n",
                        " 1   name          20 non-null     object \n",
                        " 2   description   20 non-null     object \n",
                        " 3   category_id   20 non-null     int64  \n",
                        " 4   category      20 non-null     object \n",
                        " 5   price         20 non-null     float64\n",
                        " 6   developer_id  20 non-null     int64  \n",
                        " 7   developer     20 non-null     object \n",
                        " 8   rating        20 non-null     float64\n",
                        " 9   ratings       20 non-null     int64  \n",
                        " 10  released      20 non-null     object \n",
                        " 11  source        20 non-null     object \n",
                        "dtypes: float64(2), int64(4), object(6)\n",
                        "memory usage: 2.0+ KB\n",
                        "<class 'pandas.core.frame.DataFrame'>\n",
                        "RangeIndex: 20 entries, 0 to 19\n",
                        "Data columns (total 12 columns):\n",
                        " #   Column        Non-Null Count  Dtype  \n",
                        "---  ------        --------------  -----  \n",
                        " 0   id            20 non-null     int64  \n",
                        " 1   name          20 non-null     object \n",
                        " 2   description   20 non-null     object \n",
                        " 3   category_id   20 non-null     int64  \n",
                        " 4   category      20 non-null     object \n",
                        " 5   price         20 non-null     float64\n",
                        " 6   developer_id  20 non-null     int64  \n",
                        " 7   developer     20 non-null     object \n",
                        " 8   rating        20 non-null     float64\n",
                        " 9   ratings       20 non-null     int64  \n",
                        " 10  released      20 non-null     object \n",
                        " 11  source        20 non-null     object \n",
                        "dtypes: float64(2), int64(4), object(6)\n",
                        "memory usage: 2.0+ KB\n",
                        "<class 'pandas.core.frame.DataFrame'>\n",
                        "RangeIndex: 60 entries, 0 to 59\n",
                        "Data columns (total 12 columns):\n",
                        " #   Column        Non-Null Count  Dtype  \n",
                        "---  ------        --------------  -----  \n",
                        " 0   id            60 non-null     int64  \n",
                        " 1   name          60 non-null     object \n",
                        " 2   description   60 non-null     object \n",
                        " 3   category_id   60 non-null     int64  \n",
                        " 4   category      60 non-null     object \n",
                        " 5   price         60 non-null     float64\n",
                        " 6   developer_id  60 non-null     int64  \n",
                        " 7   developer     60 non-null     object \n",
                        " 8   rating        60 non-null     float64\n",
                        " 9   ratings       60 non-null     int64  \n",
                        " 10  released      60 non-null     object \n",
                        " 11  source        60 non-null     object \n",
                        "dtypes: float64(2), int64(4), object(6)\n",
                        "memory usage: 5.8+ KB\n"
                    ]
                }
            ],
            "source": [
                "repo = container.data.app_repo()\n",
                "business = repo.get_by_category(category_id=6000)[0:20]\n",
                "business.info()\n",
                "health = repo.get_by_category(category_id=6013)[0:20]\n",
                "health.info()\n",
                "lifestyle = repo.get_by_category(category_id=6012)[0:20]\n",
                "lifestyle.info()\n",
                "apps = pd.concat([business, health, lifestyle], axis=0, ignore_index=True)\n",
                "apps.info()\n",
                "\n"
            ]
        },
        {
            "cell_type": "code",
            "execution_count": 5,
            "metadata": {},
            "outputs": [
                {
                    "name": "stdout",
                    "output_type": "stream",
                    "text": [
                        "<class 'pandas.core.frame.DataFrame'>\n",
                        "RangeIndex: 60 entries, 0 to 59\n",
                        "Data columns (total 12 columns):\n",
                        " #   Column        Non-Null Count  Dtype  \n",
                        "---  ------        --------------  -----  \n",
                        " 0   id            60 non-null     int64  \n",
                        " 1   name          60 non-null     object \n",
                        " 2   description   60 non-null     object \n",
                        " 3   category_id   60 non-null     int64  \n",
                        " 4   category      60 non-null     object \n",
                        " 5   price         60 non-null     float64\n",
                        " 6   developer_id  60 non-null     int64  \n",
                        " 7   developer     60 non-null     object \n",
                        " 8   rating        60 non-null     float64\n",
                        " 9   ratings       60 non-null     int64  \n",
                        " 10  released      60 non-null     object \n",
                        " 11  source        60 non-null     object \n",
                        "dtypes: float64(2), int64(4), object(6)\n",
                        "memory usage: 5.8+ KB\n"
                    ]
                }
            ],
            "source": [
                "TF = \"tests/data/app/rating/app.pkl\"\n",
                "os.makedirs(os.path.dirname(TF), exist_ok=True)\n",
                "IOService.write(data=apps, filepath=TF)\n",
                "apps2 = IOService.read(filepath=TF, index=False)\n",
                "apps2.info()\n"
            ]
        }
    ],
    "metadata": {
        "kernelspec": {
            "display_name": "appvoc",
            "language": "python",
            "name": "python3"
        },
        "language_info": {
            "codemirror_mode": {
                "name": "ipython",
                "version": 3
            },
            "file_extension": ".py",
            "mimetype": "text/x-python",
            "name": "python",
            "nbconvert_exporter": "python",
            "pygments_lexer": "ipython3",
            "version": "3.10.11"
        },
        "orig_nbformat": 4
    },
    "nbformat": 4,
    "nbformat_minor": 2
}