{
    "cells": [
        {
            "cell_type": "markdown",
            "metadata": {},
            "source": [
                "# Rating Data Prep\n",
                "When restarting a scrape, there is no way to know which apps have failed previously requests. Hence, a restart will re-request previously failed ids, which is innefficient and time-consuming. To avoid this we need response history of sorts. Rather than creating a new table and duplicating the data, we will post all responses with a boolean status code. This will also provide a record of the problematic ids for further debugging should that be appropriate or needed.\n",
                "\n",
                "This brief notebook simply adds the additional status column with a True value for all existing rating data. We won't retroactively add failed ids for categories already processed.\n",
                "\n",
                "So, this will be done in three steps.\n",
                "1. Read all rating data into a datafraame\n",
                "2. Add a status column to the dataframe.\n",
                "4. Drop the rating table.\n",
                "5. Add the data back to the repository, which will create the new table with status column.\n"
            ]
        },
        {
            "cell_type": "code",
            "execution_count": 1,
            "metadata": {},
            "outputs": [],
            "source": [
                "import pandas as pd\n",
                "from appvoc.infrastructure.file.io import IOService\n",
                "from appvoc.container import AppVoCContainer"
            ]
        },
        {
            "cell_type": "code",
            "execution_count": 2,
            "metadata": {},
            "outputs": [],
            "source": [
                "container = AppVoCContainer()\n",
                "container.init_resources()\n",
                "container.wire(packages=[\"appvoc.data.acquisition\"])"
            ]
        },
        {
            "cell_type": "markdown",
            "metadata": {},
            "source": [
                "## Update Ratings with Status"
            ]
        },
        {
            "cell_type": "code",
            "execution_count": 3,
            "metadata": {},
            "outputs": [
                {
                    "name": "stdout",
                    "output_type": "stream",
                    "text": [
                        "<class 'pandas.core.frame.DataFrame'>\n",
                        "RangeIndex: 26509 entries, 0 to 26508\n",
                        "Data columns (total 13 columns):\n",
                        " #   Column       Non-Null Count  Dtype  \n",
                        "---  ------       --------------  -----  \n",
                        " 0   id           26509 non-null  int64  \n",
                        " 1   name         26509 non-null  object \n",
                        " 2   category_id  26509 non-null  int64  \n",
                        " 3   category     26509 non-null  object \n",
                        " 4   rating       26509 non-null  float64\n",
                        " 5   reviews      26509 non-null  int64  \n",
                        " 6   ratings      26509 non-null  int64  \n",
                        " 7   onestar      26509 non-null  int64  \n",
                        " 8   twostar      26509 non-null  int64  \n",
                        " 9   threestar    26509 non-null  int64  \n",
                        " 10  fourstar     26509 non-null  int64  \n",
                        " 11  fivestar     26509 non-null  int64  \n",
                        " 12  status       26509 non-null  bool   \n",
                        "dtypes: bool(1), float64(1), int64(9), object(2)\n",
                        "memory usage: 2.5+ MB\n"
                    ]
                }
            ],
            "source": [
                "repo = container.data.rating_repo()\n",
                "ratings = repo.getall()\n",
                "#ratings['status'] = True\n",
                "ratings.info()"
            ]
        },
        {
            "cell_type": "markdown",
            "metadata": {},
            "source": [
                "## Drop Rating Table"
            ]
        },
        {
            "cell_type": "code",
            "execution_count": 7,
            "metadata": {},
            "outputs": [
                {
                    "name": "stdout",
                    "output_type": "stream",
                    "text": [
                        "<class 'pandas.core.frame.DataFrame'>\n",
                        "RangeIndex: 26509 entries, 0 to 26508\n",
                        "Data columns (total 13 columns):\n",
                        " #   Column       Non-Null Count  Dtype  \n",
                        "---  ------       --------------  -----  \n",
                        " 0   id           26509 non-null  int64  \n",
                        " 1   name         26509 non-null  object \n",
                        " 2   category_id  26509 non-null  int64  \n",
                        " 3   category     26509 non-null  object \n",
                        " 4   rating       26509 non-null  float64\n",
                        " 5   reviews      26509 non-null  int64  \n",
                        " 6   ratings      26509 non-null  int64  \n",
                        " 7   onestar      26509 non-null  int64  \n",
                        " 8   twostar      26509 non-null  int64  \n",
                        " 9   threestar    26509 non-null  int64  \n",
                        " 10  fourstar     26509 non-null  int64  \n",
                        " 11  fivestar     26509 non-null  int64  \n",
                        " 12  status       26509 non-null  int64  \n",
                        "dtypes: float64(1), int64(10), object(2)\n",
                        "memory usage: 2.6+ MB\n"
                    ]
                }
            ],
            "source": [
                "#repo.replace(data=ratings)\n",
                "#ratings = repo.getall()\n",
                "#ratings.info()\n",
                "ratings.export()"
            ]
        }
    ],
    "metadata": {
        "kernelspec": {
            "display_name": "appvoc",
            "language": "python",
            "name": "python3"
        },
        "language_info": {
            "codemirror_mode": {
                "name": "ipython",
                "version": 3
            },
            "file_extension": ".py",
            "mimetype": "text/x-python",
            "name": "python",
            "nbconvert_exporter": "python",
            "pygments_lexer": "ipython3",
            "version": "3.10.12"
        },
        "orig_nbformat": 4
    },
    "nbformat": 4,
    "nbformat_minor": 2
}