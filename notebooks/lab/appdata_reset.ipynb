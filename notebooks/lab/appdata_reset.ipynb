{
    "cells": [
        {
            "attachments": {},
            "cell_type": "markdown",
            "metadata": {},
            "source": [
                "# AppData Reset"
            ]
        },
        {
            "cell_type": "code",
            "execution_count": null,
            "metadata": {},
            "outputs": [],
            "source": [
                "from appvoc.container import AppVoCContainer\n",
                "container = AppVoCContainer()\n",
                "container.init_resources()\n",
                "container.wire(packages=[\"appvoc.data.acquisition\"])"
            ]
        },
        {
            "cell_type": "code",
            "execution_count": null,
            "metadata": {},
            "outputs": [],
            "source": [
                "uow = container.data.uow()\n",
                "uow.appdata_repo.reset()"
            ]
        }
    ],
    "metadata": {
        "kernelspec": {
            "display_name": "appvoc",
            "language": "python",
            "name": "python3"
        },
        "language_info": {
            "name": "python",
            "version": "3.10.11"
        },
        "orig_nbformat": 4
    },
    "nbformat": 4,
    "nbformat_minor": 2
}