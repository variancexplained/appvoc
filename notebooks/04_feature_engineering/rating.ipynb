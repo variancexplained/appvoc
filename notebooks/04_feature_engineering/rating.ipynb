{
    "cells": [
        {
            "cell_type": "markdown",
            "metadata": {},
            "source": [
                "# Rating\n",
                "The following features will be added to the appdata dataset:\n",
                "\n",
                "| # | name            | definition                                       | dtype (pandas) | dtype (mysql) |\n",
                "|---|-----------------|--------------------------------------------------|----------------|---------------|\n",
                "| 1 | extracted       | Date the data were extracted from the appvoc   | datetime       | VARCHAR(32)   |\n"
            ]
        },
        {
            "cell_type": "code",
            "execution_count": 1,
            "metadata": {},
            "outputs": [],
            "source": [
                "import os\n",
                "import numpy as np\n",
                "from datetime import datetime\n",
                "from appvoc.infrastructure.file.io import IOService\n"
            ]
        },
        {
            "cell_type": "code",
            "execution_count": 2,
            "metadata": {},
            "outputs": [],
            "source": [
                "filepath = \"data/raw/rating_2023-08-28T132314.pkl\"\n",
                "df = IOService.read(filepath=filepath)"
            ]
        },
        {
            "cell_type": "code",
            "execution_count": 3,
            "metadata": {},
            "outputs": [
                {
                    "name": "stdout",
                    "output_type": "stream",
                    "text": [
                        "<class 'pandas.core.frame.DataFrame'>\n",
                        "RangeIndex: 243663 entries, 0 to 243662\n",
                        "Data columns (total 13 columns):\n",
                        " #   Column       Non-Null Count   Dtype         \n",
                        "---  ------       --------------   -----         \n",
                        " 0   id           243663 non-null  string        \n",
                        " 1   name         243663 non-null  string        \n",
                        " 2   category_id  243663 non-null  category      \n",
                        " 3   category     243663 non-null  category      \n",
                        " 4   rating       243663 non-null  float64       \n",
                        " 5   reviews      243663 non-null  int64         \n",
                        " 6   ratings      243663 non-null  int64         \n",
                        " 7   onestar      243663 non-null  int64         \n",
                        " 8   twostar      243663 non-null  int64         \n",
                        " 9   threestar    243663 non-null  int64         \n",
                        " 10  fourstar     243663 non-null  int64         \n",
                        " 11  fivestar     243663 non-null  int64         \n",
                        " 12  extracted    243663 non-null  datetime64[ns]\n",
                        "dtypes: category(2), datetime64[ns](1), float64(1), int64(7), string(2)\n",
                        "memory usage: 20.9 MB\n"
                    ]
                }
            ],
            "source": [
                "df['extracted'] = datetime(2023,7,31,5,00,00)\n",
                "df.drop(columns=['status'], inplace=True)\n",
                "df.info()"
            ]
        },
        {
            "cell_type": "code",
            "execution_count": 4,
            "metadata": {},
            "outputs": [
                {
                    "data": {
                        "text/html": [
                            "<div>\n",
                            "<style scoped>\n",
                            "    .dataframe tbody tr th:only-of-type {\n",
                            "        vertical-align: middle;\n",
                            "    }\n",
                            "\n",
                            "    .dataframe tbody tr th {\n",
                            "        vertical-align: top;\n",
                            "    }\n",
                            "\n",
                            "    .dataframe thead th {\n",
                            "        text-align: right;\n",
                            "    }\n",
                            "</style>\n",
                            "<table border=\"1\" class=\"dataframe\">\n",
                            "  <thead>\n",
                            "    <tr style=\"text-align: right;\">\n",
                            "      <th></th>\n",
                            "      <th>id</th>\n",
                            "      <th>name</th>\n",
                            "      <th>category_id</th>\n",
                            "      <th>category</th>\n",
                            "      <th>rating</th>\n",
                            "      <th>reviews</th>\n",
                            "      <th>ratings</th>\n",
                            "      <th>onestar</th>\n",
                            "      <th>twostar</th>\n",
                            "      <th>threestar</th>\n",
                            "      <th>fourstar</th>\n",
                            "      <th>fivestar</th>\n",
                            "      <th>extracted</th>\n",
                            "    </tr>\n",
                            "  </thead>\n",
                            "  <tbody>\n",
                            "    <tr>\n",
                            "      <th>0</th>\n",
                            "      <td>1436348671</td>\n",
                            "      <td>Bloom: Stock Market Research</td>\n",
                            "      <td>6015</td>\n",
                            "      <td>Finance</td>\n",
                            "      <td>5.00</td>\n",
                            "      <td>13</td>\n",
                            "      <td>108</td>\n",
                            "      <td>3</td>\n",
                            "      <td>0</td>\n",
                            "      <td>4</td>\n",
                            "      <td>4</td>\n",
                            "      <td>97</td>\n",
                            "      <td>2023-07-31 05:00:00</td>\n",
                            "    </tr>\n",
                            "    <tr>\n",
                            "      <th>1</th>\n",
                            "      <td>600273928</td>\n",
                            "      <td>云闪付-银行业统一移动支付App</td>\n",
                            "      <td>6015</td>\n",
                            "      <td>Finance</td>\n",
                            "      <td>2.00</td>\n",
                            "      <td>119</td>\n",
                            "      <td>350</td>\n",
                            "      <td>225</td>\n",
                            "      <td>23</td>\n",
                            "      <td>18</td>\n",
                            "      <td>19</td>\n",
                            "      <td>65</td>\n",
                            "      <td>2023-07-31 05:00:00</td>\n",
                            "    </tr>\n",
                            "    <tr>\n",
                            "      <th>2</th>\n",
                            "      <td>880681855</td>\n",
                            "      <td>F&amp;M Bank - EZ Banking</td>\n",
                            "      <td>6015</td>\n",
                            "      <td>Finance</td>\n",
                            "      <td>4.50</td>\n",
                            "      <td>195</td>\n",
                            "      <td>321</td>\n",
                            "      <td>20</td>\n",
                            "      <td>11</td>\n",
                            "      <td>16</td>\n",
                            "      <td>22</td>\n",
                            "      <td>252</td>\n",
                            "      <td>2023-07-31 05:00:00</td>\n",
                            "    </tr>\n",
                            "    <tr>\n",
                            "      <th>3</th>\n",
                            "      <td>1476621398</td>\n",
                            "      <td>Utah First Digital Banking</td>\n",
                            "      <td>6015</td>\n",
                            "      <td>Finance</td>\n",
                            "      <td>4.50</td>\n",
                            "      <td>31</td>\n",
                            "      <td>2112</td>\n",
                            "      <td>43</td>\n",
                            "      <td>27</td>\n",
                            "      <td>47</td>\n",
                            "      <td>190</td>\n",
                            "      <td>1805</td>\n",
                            "      <td>2023-07-31 05:00:00</td>\n",
                            "    </tr>\n",
                            "    <tr>\n",
                            "      <th>4</th>\n",
                            "      <td>1514447510</td>\n",
                            "      <td>Unusual Whales</td>\n",
                            "      <td>6015</td>\n",
                            "      <td>Finance</td>\n",
                            "      <td>4.00</td>\n",
                            "      <td>30</td>\n",
                            "      <td>183</td>\n",
                            "      <td>27</td>\n",
                            "      <td>8</td>\n",
                            "      <td>9</td>\n",
                            "      <td>9</td>\n",
                            "      <td>130</td>\n",
                            "      <td>2023-07-31 05:00:00</td>\n",
                            "    </tr>\n",
                            "  </tbody>\n",
                            "</table>\n",
                            "</div>"
                        ],
                        "text/plain": [
                            "           id                          name category_id category  rating  \\\n",
                            "0  1436348671  Bloom: Stock Market Research        6015  Finance    5.00   \n",
                            "1   600273928              云闪付-银行业统一移动支付App        6015  Finance    2.00   \n",
                            "2   880681855         F&M Bank - EZ Banking        6015  Finance    4.50   \n",
                            "3  1476621398    Utah First Digital Banking        6015  Finance    4.50   \n",
                            "4  1514447510                Unusual Whales        6015  Finance    4.00   \n",
                            "\n",
                            "   reviews  ratings  onestar  twostar  threestar  fourstar  fivestar  \\\n",
                            "0       13      108        3        0          4         4        97   \n",
                            "1      119      350      225       23         18        19        65   \n",
                            "2      195      321       20       11         16        22       252   \n",
                            "3       31     2112       43       27         47       190      1805   \n",
                            "4       30      183       27        8          9         9       130   \n",
                            "\n",
                            "            extracted  \n",
                            "0 2023-07-31 05:00:00  \n",
                            "1 2023-07-31 05:00:00  \n",
                            "2 2023-07-31 05:00:00  \n",
                            "3 2023-07-31 05:00:00  \n",
                            "4 2023-07-31 05:00:00  "
                        ]
                    },
                    "execution_count": 4,
                    "metadata": {},
                    "output_type": "execute_result"
                }
            ],
            "source": [
                "df.head()"
            ]
        },
        {
            "cell_type": "code",
            "execution_count": 5,
            "metadata": {},
            "outputs": [],
            "source": [
                "filename = \"rating_processed_\" + datetime.now().strftime(\"%Y-%m-%d\") + \".pkl\"\n",
                "directory = \"data/processed\"\n",
                "filepath = os.path.join(directory, filename)\n",
                "IOService.write(filepath=filepath, data=df)"
            ]
        }
    ],
    "metadata": {
        "kernelspec": {
            "display_name": "appvoc",
            "language": "python",
            "name": "python3"
        },
        "language_info": {
            "codemirror_mode": {
                "name": "ipython",
                "version": 3
            },
            "file_extension": ".py",
            "mimetype": "text/x-python",
            "name": "python",
            "nbconvert_exporter": "python",
            "pygments_lexer": "ipython3",
            "version": "3.10.12"
        },
        "orig_nbformat": 4
    },
    "nbformat": 4,
    "nbformat_minor": 2
}