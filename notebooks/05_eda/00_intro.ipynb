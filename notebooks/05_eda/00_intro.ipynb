{
    "cells": [
        {
            "attachments": {},
            "cell_type": "markdown",
            "metadata": {},
            "source": [
                "# Apple App Store Voice of the Customer Dataset Analysis \n",
                "As of May 2023, Apple's App Store offered over 1.76 million apps across 70 categories, accounting for over 62% of the global revenue share in 2022. \n",
                "\n",
                "\n",
                "This iterative, yet lean, exploratory data analysis (EDA) of over 300,000 apps across 26 categories aims to discover patterns, trends and clusters of opinion, and to generate actionable, high-impact insights for opportunity discover and analysis.\n",
                "\n",
                "> “Far better an approximate answer to the right question, which is often vague, than an exact answer to the wrong question, which can always be made precise.” — John Tukey\n",
                "\n",
                "The EDA is guided by the following nine, intentionally vague, yet provoking questions to stimulate discovery of the unknown, latent, yet high-impact/high-value, customer experience in an iterative, and likely chaotic learning process.\n",
                "\n",
                "1. What best characterizes the nature of customer opinion within the mobile app market today?  \n",
                "2. What best characterizes the intensity of customer opinion?\n",
                "3. How does opinion and customer satisfaction vary within and across mobile app categories? \n",
                "4. Are their clusters exposed by the nature and intensity of opinion?   \n",
                "5. What does the distribution of rating and rating volume reveal about app creators / developers?\n",
                "6. To what degree do these data suggest unmet customer needs, and fruitfull areas for opportunity discovery?\n",
                "\n",
                "## Datasets\n",
                "This effort centers around three datasets comprising data obtained from the Apple App Store during May of 2023. \n",
                "\n",
                "| Name         | Filename       | Description                                           | Examples     |\n",
                "|--------------|----------------|-------------------------------------------------------|--------------|\n",
                "| App Overview | app.csv.gz | Descriptive data, price, category, rating information |   475,132    |\n",
                "| App Rating   | ratings.csv.gz | Rating histogram and review counts                    |       9,999  |\n",
                "| App Reviews  | reviews.csv.gz | Customer reviews                                      |   999,999    |\n",
                "\n",
                "## EDA Approach\n",
                "Our analysis will traverse three stages, with three datasets, each providing progressively deeper insight into the voice of the mobile app customer. [Stage one](notebooks/02_eda/01_app.ipynb) is a high-level examination of the basic product descriptive information, as well as price, average rating, rating count and developer data. During [stage two](notebooks/02_eda/02_rating.ipynb), a subset of the data will provide review count and rating histograms of the distribution of ratings and counts, evincing the range and intensity of customer opinion. Lastly, our [stage three](notebooks/02_eda/03_review.ipynb) analysis turns qualitative as we analyze customer sentiment from reviews, vis-a-vis ratings. \n"
            ]
        }
    ],
    "metadata": {
        "kernelspec": {
            "display_name": "appvoc",
            "language": "python",
            "name": "python3"
        },
        "language_info": {
            "codemirror_mode": {
                "name": "ipython",
                "version": 3
            },
            "file_extension": ".py",
            "mimetype": "text/x-python",
            "name": "python",
            "nbconvert_exporter": "python",
            "pygments_lexer": "ipython3",
            "version": "3.10.11"
        },
        "orig_nbformat": 4
    },
    "nbformat": 4,
    "nbformat_minor": 2
}