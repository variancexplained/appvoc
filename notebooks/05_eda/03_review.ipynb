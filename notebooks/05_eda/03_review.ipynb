{
    "cells": [
        {
            "attachments": {},
            "cell_type": "markdown",
            "metadata": {},
            "source": [
                "# Reviews\n"
            ]
        },
        {
            "cell_type": "code",
            "execution_count": 1,
            "metadata": {},
            "outputs": [],
            "source": [
                "import os\n",
                "\n",
                "import numpy as np\n",
                "import pandas as pd\n",
                "from IPython.display import HTML, display_html\n",
                "\n",
                "from appvoc.container import AppVoCContainer\n",
                "\n",
                "container = AppVoCContainer()\n",
                "container.init_resources()\n",
                "pd.set_option(\"max_colwidth\", 400)"
            ]
        },
        {
            "cell_type": "code",
            "execution_count": 2,
            "metadata": {},
            "outputs": [],
            "source": [
                "repo = container.data.review_repo()"
            ]
        },
        {
            "cell_type": "code",
            "execution_count": 3,
            "metadata": {},
            "outputs": [
                {
                    "data": {
                        "text/html": [
                            "<div>\n",
                            "<style scoped>\n",
                            "    .dataframe tbody tr th:only-of-type {\n",
                            "        vertical-align: middle;\n",
                            "    }\n",
                            "\n",
                            "    .dataframe tbody tr th {\n",
                            "        vertical-align: top;\n",
                            "    }\n",
                            "\n",
                            "    .dataframe thead th {\n",
                            "        text-align: right;\n",
                            "    }\n",
                            "</style>\n",
                            "<table border=\"1\" class=\"dataframe\">\n",
                            "  <thead>\n",
                            "    <tr style=\"text-align: right;\">\n",
                            "      <th></th>\n",
                            "      <th>Category</th>\n",
                            "      <th>Reviews</th>\n",
                            "      <th>Apps</th>\n",
                            "    </tr>\n",
                            "  </thead>\n",
                            "  <tbody>\n",
                            "    <tr>\n",
                            "      <th>0</th>\n",
                            "      <td>Book</td>\n",
                            "      <td>3</td>\n",
                            "      <td>3</td>\n",
                            "    </tr>\n",
                            "    <tr>\n",
                            "      <th>1</th>\n",
                            "      <td>Business</td>\n",
                            "      <td>12</td>\n",
                            "      <td>11</td>\n",
                            "    </tr>\n",
                            "    <tr>\n",
                            "      <th>2</th>\n",
                            "      <td>Education</td>\n",
                            "      <td>8</td>\n",
                            "      <td>8</td>\n",
                            "    </tr>\n",
                            "    <tr>\n",
                            "      <th>3</th>\n",
                            "      <td>Entertainment</td>\n",
                            "      <td>12</td>\n",
                            "      <td>12</td>\n",
                            "    </tr>\n",
                            "    <tr>\n",
                            "      <th>4</th>\n",
                            "      <td>Health &amp; Fitness</td>\n",
                            "      <td>21</td>\n",
                            "      <td>21</td>\n",
                            "    </tr>\n",
                            "    <tr>\n",
                            "      <th>5</th>\n",
                            "      <td>Lifestyle</td>\n",
                            "      <td>9</td>\n",
                            "      <td>9</td>\n",
                            "    </tr>\n",
                            "    <tr>\n",
                            "      <th>6</th>\n",
                            "      <td>Medical</td>\n",
                            "      <td>5</td>\n",
                            "      <td>5</td>\n",
                            "    </tr>\n",
                            "    <tr>\n",
                            "      <th>7</th>\n",
                            "      <td>Productivity</td>\n",
                            "      <td>5</td>\n",
                            "      <td>5</td>\n",
                            "    </tr>\n",
                            "    <tr>\n",
                            "      <th>8</th>\n",
                            "      <td>Social Networking</td>\n",
                            "      <td>17</td>\n",
                            "      <td>12</td>\n",
                            "    </tr>\n",
                            "    <tr>\n",
                            "      <th>9</th>\n",
                            "      <td>Utilities</td>\n",
                            "      <td>8</td>\n",
                            "      <td>8</td>\n",
                            "    </tr>\n",
                            "  </tbody>\n",
                            "</table>\n",
                            "</div>"
                        ],
                        "text/plain": [
                            "            Category  Reviews  Apps\n",
                            "0               Book        3     3\n",
                            "1           Business       12    11\n",
                            "2          Education        8     8\n",
                            "3      Entertainment       12    12\n",
                            "4   Health & Fitness       21    21\n",
                            "5          Lifestyle        9     9\n",
                            "6            Medical        5     5\n",
                            "7       Productivity        5     5\n",
                            "8  Social Networking       17    12\n",
                            "9          Utilities        8     8"
                        ]
                    },
                    "execution_count": 3,
                    "metadata": {},
                    "output_type": "execute_result"
                }
            ],
            "source": [
                "repo.summary"
            ]
        },
        {
            "cell_type": "code",
            "execution_count": 4,
            "metadata": {},
            "outputs": [
                {
                    "name": "stdout",
                    "output_type": "stream",
                    "text": [
                        "<class 'pandas.core.frame.DataFrame'>\n",
                        "RangeIndex: 100 entries, 0 to 99\n",
                        "Data columns (total 12 columns):\n",
                        " #   Column       Non-Null Count  Dtype         \n",
                        "---  ------       --------------  -----         \n",
                        " 0   id           100 non-null    string        \n",
                        " 1   app_id       100 non-null    string        \n",
                        " 2   app_name     100 non-null    string        \n",
                        " 3   category_id  100 non-null    category      \n",
                        " 4   category     100 non-null    category      \n",
                        " 5   author       100 non-null    string        \n",
                        " 6   rating       100 non-null    float64       \n",
                        " 7   title        100 non-null    string        \n",
                        " 8   content      100 non-null    string        \n",
                        " 9   vote_sum     100 non-null    int64         \n",
                        " 10  vote_count   100 non-null    int64         \n",
                        " 11  date         100 non-null    datetime64[ns]\n",
                        "dtypes: category(2), datetime64[ns](1), float64(1), int64(2), string(6)\n",
                        "memory usage: 8.9 KB\n"
                    ]
                }
            ],
            "source": [
                "repo.info()"
            ]
        },
        {
            "cell_type": "code",
            "execution_count": 5,
            "metadata": {},
            "outputs": [
                {
                    "data": {
                        "text/html": [
                            "<div>\n",
                            "<style scoped>\n",
                            "    .dataframe tbody tr th:only-of-type {\n",
                            "        vertical-align: middle;\n",
                            "    }\n",
                            "\n",
                            "    .dataframe tbody tr th {\n",
                            "        vertical-align: top;\n",
                            "    }\n",
                            "\n",
                            "    .dataframe thead th {\n",
                            "        text-align: right;\n",
                            "    }\n",
                            "</style>\n",
                            "<table border=\"1\" class=\"dataframe\">\n",
                            "  <thead>\n",
                            "    <tr style=\"text-align: right;\">\n",
                            "      <th></th>\n",
                            "      <th>id</th>\n",
                            "      <th>app_id</th>\n",
                            "      <th>app_name</th>\n",
                            "      <th>category_id</th>\n",
                            "      <th>category</th>\n",
                            "      <th>author</th>\n",
                            "      <th>rating</th>\n",
                            "      <th>title</th>\n",
                            "      <th>content</th>\n",
                            "      <th>vote_sum</th>\n",
                            "      <th>vote_count</th>\n",
                            "      <th>date</th>\n",
                            "    </tr>\n",
                            "  </thead>\n",
                            "  <tbody>\n",
                            "    <tr>\n",
                            "      <th>63</th>\n",
                            "      <td>874217249</td>\n",
                            "      <td>422370120</td>\n",
                            "      <td>iPoll</td>\n",
                            "      <td>6012</td>\n",
                            "      <td>Lifestyle</td>\n",
                            "      <td>wayner23</td>\n",
                            "      <td>3.00</td>\n",
                            "      <td>Ipoll</td>\n",
                            "      <td>Good survey game sick lame</td>\n",
                            "      <td>0</td>\n",
                            "      <td>0</td>\n",
                            "      <td>2013-09-23 05:23:11</td>\n",
                            "    </tr>\n",
                            "    <tr>\n",
                            "      <th>61</th>\n",
                            "      <td>7651665904</td>\n",
                            "      <td>1537177988</td>\n",
                            "      <td>Starlink</td>\n",
                            "      <td>6002</td>\n",
                            "      <td>Utilities</td>\n",
                            "      <td>dennonj2</td>\n",
                            "      <td>5.00</td>\n",
                            "      <td>Much better</td>\n",
                            "      <td>The new design to the app has made it much nicer and easier to use. Adding dark mode just made it even better. This is a great app that works perfectly with Dishy!</td>\n",
                            "      <td>0</td>\n",
                            "      <td>0</td>\n",
                            "      <td>2021-08-03 21:26:18</td>\n",
                            "    </tr>\n",
                            "    <tr>\n",
                            "      <th>79</th>\n",
                            "      <td>5012531364</td>\n",
                            "      <td>992587921</td>\n",
                            "      <td>Rally®</td>\n",
                            "      <td>6013</td>\n",
                            "      <td>Health &amp; Fitness</td>\n",
                            "      <td>WW Rick</td>\n",
                            "      <td>5.00</td>\n",
                            "      <td>Excellent Health &amp; Fitness App</td>\n",
                            "      <td>The app is extremely easy to use and to change goals, depending on changes to your lifestyle. I like that it alerts me about healthy things I can do to improve my health.</td>\n",
                            "      <td>0</td>\n",
                            "      <td>0</td>\n",
                            "      <td>2019-10-25 12:35:45</td>\n",
                            "    </tr>\n",
                            "    <tr>\n",
                            "      <th>87</th>\n",
                            "      <td>520945263</td>\n",
                            "      <td>377304531</td>\n",
                            "      <td>Voxer Walkie Talkie Messenger</td>\n",
                            "      <td>6000</td>\n",
                            "      <td>Business</td>\n",
                            "      <td>MykGio</td>\n",
                            "      <td>5.00</td>\n",
                            "      <td>Push to talk iPhone?</td>\n",
                            "      <td>Yeah that's right. Push to talk has just come to the iPhone.  Right on.</td>\n",
                            "      <td>0</td>\n",
                            "      <td>0</td>\n",
                            "      <td>2012-01-31 22:02:00</td>\n",
                            "    </tr>\n",
                            "    <tr>\n",
                            "      <th>16</th>\n",
                            "      <td>9784162427</td>\n",
                            "      <td>1454056744</td>\n",
                            "      <td>Instacart Shopper: Earn money</td>\n",
                            "      <td>6000</td>\n",
                            "      <td>Business</td>\n",
                            "      <td>lhcarden</td>\n",
                            "      <td>1.00</td>\n",
                            "      <td>Don’t become diamond cart</td>\n",
                            "      <td>I started work with instacart again after I gave up because the instacart just stopped send me batches and was not worth it.\n",
                            "When I started again I was a gold cart but I was seeing batches and making a good money. I became platinum and still seeing good batches.\n",
                            "3 weeks ago I became diamond cart and since that they stopped to send me batches. \n",
                            "I’m a diamond cart 5 star rate and my wife is plat...</td>\n",
                            "      <td>0</td>\n",
                            "      <td>0</td>\n",
                            "      <td>2023-04-04 00:39:00</td>\n",
                            "    </tr>\n",
                            "  </tbody>\n",
                            "</table>\n",
                            "</div>"
                        ],
                        "text/plain": [
                            "            id      app_id                       app_name category_id  \\\n",
                            "63   874217249   422370120                          iPoll        6012   \n",
                            "61  7651665904  1537177988                       Starlink        6002   \n",
                            "79  5012531364   992587921                         Rally®        6013   \n",
                            "87   520945263   377304531  Voxer Walkie Talkie Messenger        6000   \n",
                            "16  9784162427  1454056744  Instacart Shopper: Earn money        6000   \n",
                            "\n",
                            "            category    author  rating                           title  \\\n",
                            "63         Lifestyle  wayner23    3.00                           Ipoll   \n",
                            "61         Utilities  dennonj2    5.00                     Much better   \n",
                            "79  Health & Fitness   WW Rick    5.00  Excellent Health & Fitness App   \n",
                            "87          Business    MykGio    5.00            Push to talk iPhone?   \n",
                            "16          Business  lhcarden    1.00       Don’t become diamond cart   \n",
                            "\n",
                            "                                                                                                                                                                                                                                                                                                                                                                                                            content  \\\n",
                            "63                                                                                                                                                                                                                                                                                                                                                                                       Good survey game sick lame   \n",
                            "61                                                                                                                                                                                                                                              The new design to the app has made it much nicer and easier to use. Adding dark mode just made it even better. This is a great app that works perfectly with Dishy!   \n",
                            "79                                                                                                                                                                                                                                       The app is extremely easy to use and to change goals, depending on changes to your lifestyle. I like that it alerts me about healthy things I can do to improve my health.   \n",
                            "87                                                                                                                                                                                                                                                                                                                                          Yeah that's right. Push to talk has just come to the iPhone.  Right on.   \n",
                            "16  I started work with instacart again after I gave up because the instacart just stopped send me batches and was not worth it.\n",
                            "When I started again I was a gold cart but I was seeing batches and making a good money. I became platinum and still seeing good batches.\n",
                            "3 weeks ago I became diamond cart and since that they stopped to send me batches. \n",
                            "I’m a diamond cart 5 star rate and my wife is plat...   \n",
                            "\n",
                            "    vote_sum  vote_count                date  \n",
                            "63         0           0 2013-09-23 05:23:11  \n",
                            "61         0           0 2021-08-03 21:26:18  \n",
                            "79         0           0 2019-10-25 12:35:45  \n",
                            "87         0           0 2012-01-31 22:02:00  \n",
                            "16         0           0 2023-04-04 00:39:00  "
                        ]
                    },
                    "execution_count": 5,
                    "metadata": {},
                    "output_type": "execute_result"
                }
            ],
            "source": [
                "repo.sample()"
            ]
        },
        {
            "cell_type": "code",
            "execution_count": 6,
            "metadata": {},
            "outputs": [
                {
                    "name": "stderr",
                    "output_type": "stream",
                    "text": [
                        "[08/26/2023 10:23:15 PM] [DEBUG] [ReviewRepo] [get] : <class 'pandas.core.frame.DataFrame'>\n"
                    ]
                }
            ],
            "source": [
                "review = repo.get(id=\"4937046803\")\n"
            ]
        },
        {
            "cell_type": "code",
            "execution_count": 7,
            "metadata": {},
            "outputs": [
                {
                    "name": "stdout",
                    "output_type": "stream",
                    "text": [
                        "None\n"
                    ]
                }
            ],
            "source": [
                "print(review.__str__())"
            ]
        },
        {
            "cell_type": "code",
            "execution_count": 8,
            "metadata": {},
            "outputs": [
                {
                    "data": {
                        "text/plain": [
                            "'tests/data/datasets/review/review_2023-08-26T222315.pkl'"
                        ]
                    },
                    "execution_count": 8,
                    "metadata": {},
                    "output_type": "execute_result"
                }
            ],
            "source": [
                "repo.export()"
            ]
        }
    ],
    "metadata": {
        "kernelspec": {
            "display_name": "appvoc",
            "language": "python",
            "name": "python3"
        },
        "language_info": {
            "codemirror_mode": {
                "name": "ipython",
                "version": 3
            },
            "file_extension": ".py",
            "mimetype": "text/x-python",
            "name": "python",
            "nbconvert_exporter": "python",
            "pygments_lexer": "ipython3",
            "version": "3.10.12"
        },
        "orig_nbformat": 4
    },
    "nbformat": 4,
    "nbformat_minor": 2
}