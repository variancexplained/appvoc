{
    "cells": [
        {
            "cell_type": "markdown",
            "metadata": {},
            "source": [
                "## AppData Dataset"
            ]
        },
        {
            "cell_type": "code",
            "execution_count": 1,
            "metadata": {},
            "outputs": [],
            "source": [
                "import numpy as np\n",
                "import pandas as pd\n",
                "from IPython.display import HTML, display_html\n",
                "import warnings\n",
                "import seaborn as sns\n",
                "warnings.filterwarnings(action='ignore', category=UserWarning)\n",
                "\n",
                "from appvoc.container import AppVoCContainer\n",
                "from appvoc.data.dataset.app import AppDataDataset\n",
                "pd.set_option('display.max_colwidth', 200)"
            ]
        },
        {
            "cell_type": "code",
            "execution_count": 2,
            "metadata": {},
            "outputs": [],
            "source": [
                "container = AppVoCContainer()\n",
                "container.init_resources()\n",
                "container.wire(packages=['appvoc'])"
            ]
        },
        {
            "cell_type": "code",
            "execution_count": 3,
            "metadata": {},
            "outputs": [
                {
                    "ename": "ProgrammingError",
                    "evalue": "(pymysql.err.ProgrammingError) (1146, \"Table 'appvoc_raw.app' doesn't exist\")\n[SQL: SELECT * FROM app;]\n(Background on this error at: https://sqlalche.me/e/20/f405)",
                    "output_type": "error",
                    "traceback": [
                        "\u001b[0;31m---------------------------------------------------------------------------\u001b[0m",
                        "\u001b[0;31mProgrammingError\u001b[0m                          Traceback (most recent call last)",
                        "File \u001b[0;32m~/anaconda3/envs/appvoc/lib/python3.10/site-packages/sqlalchemy/engine/base.py:1965\u001b[0m, in \u001b[0;36mConnection._exec_single_context\u001b[0;34m(self, dialect, context, statement, parameters)\u001b[0m\n\u001b[1;32m   1964\u001b[0m     \u001b[39mif\u001b[39;00m \u001b[39mnot\u001b[39;00m evt_handled:\n\u001b[0;32m-> 1965\u001b[0m         \u001b[39mself\u001b[39;49m\u001b[39m.\u001b[39;49mdialect\u001b[39m.\u001b[39;49mdo_execute(\n\u001b[1;32m   1966\u001b[0m             cursor, str_statement, effective_parameters, context\n\u001b[1;32m   1967\u001b[0m         )\n\u001b[1;32m   1969\u001b[0m \u001b[39mif\u001b[39;00m \u001b[39mself\u001b[39m\u001b[39m.\u001b[39m_has_events \u001b[39mor\u001b[39;00m \u001b[39mself\u001b[39m\u001b[39m.\u001b[39mengine\u001b[39m.\u001b[39m_has_events:\n",
                        "File \u001b[0;32m~/anaconda3/envs/appvoc/lib/python3.10/site-packages/sqlalchemy/engine/default.py:921\u001b[0m, in \u001b[0;36mDefaultDialect.do_execute\u001b[0;34m(self, cursor, statement, parameters, context)\u001b[0m\n\u001b[1;32m    920\u001b[0m \u001b[39mdef\u001b[39;00m \u001b[39mdo_execute\u001b[39m(\u001b[39mself\u001b[39m, cursor, statement, parameters, context\u001b[39m=\u001b[39m\u001b[39mNone\u001b[39;00m):\n\u001b[0;32m--> 921\u001b[0m     cursor\u001b[39m.\u001b[39;49mexecute(statement, parameters)\n",
                        "File \u001b[0;32m~/anaconda3/envs/appvoc/lib/python3.10/site-packages/pymysql/cursors.py:148\u001b[0m, in \u001b[0;36mCursor.execute\u001b[0;34m(self, query, args)\u001b[0m\n\u001b[1;32m    146\u001b[0m query \u001b[39m=\u001b[39m \u001b[39mself\u001b[39m\u001b[39m.\u001b[39mmogrify(query, args)\n\u001b[0;32m--> 148\u001b[0m result \u001b[39m=\u001b[39m \u001b[39mself\u001b[39;49m\u001b[39m.\u001b[39;49m_query(query)\n\u001b[1;32m    149\u001b[0m \u001b[39mself\u001b[39m\u001b[39m.\u001b[39m_executed \u001b[39m=\u001b[39m query\n",
                        "File \u001b[0;32m~/anaconda3/envs/appvoc/lib/python3.10/site-packages/pymysql/cursors.py:310\u001b[0m, in \u001b[0;36mCursor._query\u001b[0;34m(self, q)\u001b[0m\n\u001b[1;32m    309\u001b[0m \u001b[39mself\u001b[39m\u001b[39m.\u001b[39m_clear_result()\n\u001b[0;32m--> 310\u001b[0m conn\u001b[39m.\u001b[39;49mquery(q)\n\u001b[1;32m    311\u001b[0m \u001b[39mself\u001b[39m\u001b[39m.\u001b[39m_do_get_result()\n",
                        "File \u001b[0;32m~/anaconda3/envs/appvoc/lib/python3.10/site-packages/pymysql/connections.py:548\u001b[0m, in \u001b[0;36mConnection.query\u001b[0;34m(self, sql, unbuffered)\u001b[0m\n\u001b[1;32m    547\u001b[0m \u001b[39mself\u001b[39m\u001b[39m.\u001b[39m_execute_command(COMMAND\u001b[39m.\u001b[39mCOM_QUERY, sql)\n\u001b[0;32m--> 548\u001b[0m \u001b[39mself\u001b[39m\u001b[39m.\u001b[39m_affected_rows \u001b[39m=\u001b[39m \u001b[39mself\u001b[39;49m\u001b[39m.\u001b[39;49m_read_query_result(unbuffered\u001b[39m=\u001b[39;49munbuffered)\n\u001b[1;32m    549\u001b[0m \u001b[39mreturn\u001b[39;00m \u001b[39mself\u001b[39m\u001b[39m.\u001b[39m_affected_rows\n",
                        "File \u001b[0;32m~/anaconda3/envs/appvoc/lib/python3.10/site-packages/pymysql/connections.py:775\u001b[0m, in \u001b[0;36mConnection._read_query_result\u001b[0;34m(self, unbuffered)\u001b[0m\n\u001b[1;32m    774\u001b[0m     result \u001b[39m=\u001b[39m MySQLResponse(\u001b[39mself\u001b[39m)\n\u001b[0;32m--> 775\u001b[0m     result\u001b[39m.\u001b[39;49mread()\n\u001b[1;32m    776\u001b[0m \u001b[39mself\u001b[39m\u001b[39m.\u001b[39m_result \u001b[39m=\u001b[39m result\n",
                        "File \u001b[0;32m~/anaconda3/envs/appvoc/lib/python3.10/site-packages/pymysql/connections.py:1156\u001b[0m, in \u001b[0;36mMySQLResponse.read\u001b[0;34m(self)\u001b[0m\n\u001b[1;32m   1155\u001b[0m \u001b[39mtry\u001b[39;00m:\n\u001b[0;32m-> 1156\u001b[0m     first_packet \u001b[39m=\u001b[39m \u001b[39mself\u001b[39;49m\u001b[39m.\u001b[39;49mconnection\u001b[39m.\u001b[39;49m_read_packet()\n\u001b[1;32m   1158\u001b[0m     \u001b[39mif\u001b[39;00m first_packet\u001b[39m.\u001b[39mis_ok_packet():\n",
                        "File \u001b[0;32m~/anaconda3/envs/appvoc/lib/python3.10/site-packages/pymysql/connections.py:725\u001b[0m, in \u001b[0;36mConnection._read_packet\u001b[0;34m(self, packet_type)\u001b[0m\n\u001b[1;32m    724\u001b[0m         \u001b[39mself\u001b[39m\u001b[39m.\u001b[39m_result\u001b[39m.\u001b[39munbuffered_active \u001b[39m=\u001b[39m \u001b[39mFalse\u001b[39;00m\n\u001b[0;32m--> 725\u001b[0m     packet\u001b[39m.\u001b[39;49mraise_for_error()\n\u001b[1;32m    726\u001b[0m \u001b[39mreturn\u001b[39;00m packet\n",
                        "File \u001b[0;32m~/anaconda3/envs/appvoc/lib/python3.10/site-packages/pymysql/protocol.py:221\u001b[0m, in \u001b[0;36mMysqlPacket.raise_for_error\u001b[0;34m(self)\u001b[0m\n\u001b[1;32m    220\u001b[0m     \u001b[39mprint\u001b[39m(\u001b[39m\"\u001b[39m\u001b[39merrno =\u001b[39m\u001b[39m\"\u001b[39m, errno)\n\u001b[0;32m--> 221\u001b[0m err\u001b[39m.\u001b[39;49mraise_mysql_exception(\u001b[39mself\u001b[39;49m\u001b[39m.\u001b[39;49m_data)\n",
                        "File \u001b[0;32m~/anaconda3/envs/appvoc/lib/python3.10/site-packages/pymysql/err.py:143\u001b[0m, in \u001b[0;36mraise_mysql_exception\u001b[0;34m(data)\u001b[0m\n\u001b[1;32m    142\u001b[0m     errorclass \u001b[39m=\u001b[39m InternalError \u001b[39mif\u001b[39;00m errno \u001b[39m<\u001b[39m \u001b[39m1000\u001b[39m \u001b[39melse\u001b[39;00m OperationalError\n\u001b[0;32m--> 143\u001b[0m \u001b[39mraise\u001b[39;00m errorclass(errno, errval)\n",
                        "\u001b[0;31mProgrammingError\u001b[0m: (1146, \"Table 'appvoc_raw.app' doesn't exist\")",
                        "\nThe above exception was the direct cause of the following exception:\n",
                        "\u001b[0;31mProgrammingError\u001b[0m                          Traceback (most recent call last)",
                        "Cell \u001b[0;32mIn[3], line 2\u001b[0m\n\u001b[1;32m      1\u001b[0m repo \u001b[39m=\u001b[39m container\u001b[39m.\u001b[39mdata\u001b[39m.\u001b[39mapp_repo()\n\u001b[0;32m----> 2\u001b[0m dataset \u001b[39m=\u001b[39m repo\u001b[39m.\u001b[39;49mget_dataset()\n",
                        "File \u001b[0;32m~/projects/appvoc/appvoc/data/repo/app.py:139\u001b[0m, in \u001b[0;36mAppDataRepo.get_dataset\u001b[0;34m(self)\u001b[0m\n\u001b[1;32m    138\u001b[0m \u001b[39mdef\u001b[39;00m \u001b[39mget_dataset\u001b[39m(\u001b[39mself\u001b[39m) \u001b[39m-\u001b[39m\u001b[39m>\u001b[39m AppDataDataset:\n\u001b[0;32m--> 139\u001b[0m     df \u001b[39m=\u001b[39m \u001b[39mself\u001b[39;49m\u001b[39m.\u001b[39;49mgetall()\n\u001b[1;32m    140\u001b[0m     \u001b[39mreturn\u001b[39;00m AppDataDataset(df\u001b[39m=\u001b[39mdf)\n",
                        "File \u001b[0;32m~/projects/appvoc/appvoc/data/repo/app.py:125\u001b[0m, in \u001b[0;36mAppDataRepo.getall\u001b[0;34m(self)\u001b[0m\n\u001b[1;32m    122\u001b[0m \u001b[39mdef\u001b[39;00m \u001b[39mgetall\u001b[39m(\u001b[39mself\u001b[39m) \u001b[39m-\u001b[39m\u001b[39m>\u001b[39m pd\u001b[39m.\u001b[39mDataFrame:\n\u001b[1;32m    123\u001b[0m \u001b[39m    \u001b[39m\u001b[39m\"\"\"Returns all data in the repository.\"\"\"\u001b[39;00m\n\u001b[0;32m--> 125\u001b[0m     \u001b[39mreturn\u001b[39;00m \u001b[39msuper\u001b[39;49m()\u001b[39m.\u001b[39;49mgetall(dtypes\u001b[39m=\u001b[39;49mDATAFRAME_DTYPES, parse_dates\u001b[39m=\u001b[39;49mPARSE_DATES)\n",
                        "File \u001b[0;32m~/projects/appvoc/appvoc/data/repo/base.py:150\u001b[0m, in \u001b[0;36mRepo.getall\u001b[0;34m(self, dtypes, parse_dates)\u001b[0m\n\u001b[1;32m    148\u001b[0m query \u001b[39m=\u001b[39m \u001b[39mf\u001b[39m\u001b[39m\"\u001b[39m\u001b[39mSELECT * FROM \u001b[39m\u001b[39m{\u001b[39;00m\u001b[39mself\u001b[39m\u001b[39m.\u001b[39m_name\u001b[39m}\u001b[39;00m\u001b[39m;\u001b[39m\u001b[39m\"\u001b[39m\n\u001b[1;32m    149\u001b[0m params \u001b[39m=\u001b[39m \u001b[39mNone\u001b[39;00m\n\u001b[0;32m--> 150\u001b[0m \u001b[39mreturn\u001b[39;00m \u001b[39mself\u001b[39;49m\u001b[39m.\u001b[39;49m_database\u001b[39m.\u001b[39;49mquery(\n\u001b[1;32m    151\u001b[0m     query\u001b[39m=\u001b[39;49mquery, params\u001b[39m=\u001b[39;49mparams, dtypes\u001b[39m=\u001b[39;49mdtypes, parse_dates\u001b[39m=\u001b[39;49mparse_dates\n\u001b[1;32m    152\u001b[0m )\n",
                        "File \u001b[0;32m~/projects/appvoc/appvoc/infrastructure/database/base.py:207\u001b[0m, in \u001b[0;36mDatabase.query\u001b[0;34m(self, query, params, dtypes, parse_dates)\u001b[0m\n\u001b[1;32m    194\u001b[0m \u001b[39mdef\u001b[39;00m \u001b[39mquery\u001b[39m(\n\u001b[1;32m    195\u001b[0m     \u001b[39mself\u001b[39m, query: \u001b[39mstr\u001b[39m, params: \u001b[39mdict\u001b[39m \u001b[39m=\u001b[39m (), dtypes: \u001b[39mdict\u001b[39m \u001b[39m=\u001b[39m \u001b[39mNone\u001b[39;00m, parse_dates: \u001b[39mdict\u001b[39m \u001b[39m=\u001b[39m \u001b[39mNone\u001b[39;00m\n\u001b[1;32m    196\u001b[0m ) \u001b[39m-\u001b[39m\u001b[39m>\u001b[39m pd\u001b[39m.\u001b[39mDataFrame:\n\u001b[1;32m    197\u001b[0m \u001b[39m    \u001b[39m\u001b[39m\"\"\"Fetches the next row of a query result set, returning a single sequence, or None if no more data\u001b[39;00m\n\u001b[1;32m    198\u001b[0m \u001b[39m    Args:\u001b[39;00m\n\u001b[1;32m    199\u001b[0m \u001b[39m        query (str): The SQL command\u001b[39;00m\n\u001b[0;32m   (...)\u001b[0m\n\u001b[1;32m    205\u001b[0m \n\u001b[1;32m    206\u001b[0m \u001b[39m    \"\"\"\u001b[39;00m\n\u001b[0;32m--> 207\u001b[0m     \u001b[39mreturn\u001b[39;00m pd\u001b[39m.\u001b[39;49mread_sql(\n\u001b[1;32m    208\u001b[0m         sql\u001b[39m=\u001b[39;49msqlalchemy\u001b[39m.\u001b[39;49mtext(query),\n\u001b[1;32m    209\u001b[0m         con\u001b[39m=\u001b[39;49m\u001b[39mself\u001b[39;49m\u001b[39m.\u001b[39;49m_connection,\n\u001b[1;32m    210\u001b[0m         params\u001b[39m=\u001b[39;49mparams,\n\u001b[1;32m    211\u001b[0m         dtype\u001b[39m=\u001b[39;49mdtypes,\n\u001b[1;32m    212\u001b[0m         parse_dates\u001b[39m=\u001b[39;49mparse_dates,\n\u001b[1;32m    213\u001b[0m     )\n",
                        "File \u001b[0;32m~/anaconda3/envs/appvoc/lib/python3.10/site-packages/pandas/io/sql.py:663\u001b[0m, in \u001b[0;36mread_sql\u001b[0;34m(sql, con, index_col, coerce_float, params, parse_dates, columns, chunksize, dtype_backend, dtype)\u001b[0m\n\u001b[1;32m    653\u001b[0m     \u001b[39mreturn\u001b[39;00m pandas_sql\u001b[39m.\u001b[39mread_table(\n\u001b[1;32m    654\u001b[0m         sql,\n\u001b[1;32m    655\u001b[0m         index_col\u001b[39m=\u001b[39mindex_col,\n\u001b[0;32m   (...)\u001b[0m\n\u001b[1;32m    660\u001b[0m         dtype_backend\u001b[39m=\u001b[39mdtype_backend,\n\u001b[1;32m    661\u001b[0m     )\n\u001b[1;32m    662\u001b[0m \u001b[39melse\u001b[39;00m:\n\u001b[0;32m--> 663\u001b[0m     \u001b[39mreturn\u001b[39;00m pandas_sql\u001b[39m.\u001b[39;49mread_query(\n\u001b[1;32m    664\u001b[0m         sql,\n\u001b[1;32m    665\u001b[0m         index_col\u001b[39m=\u001b[39;49mindex_col,\n\u001b[1;32m    666\u001b[0m         params\u001b[39m=\u001b[39;49mparams,\n\u001b[1;32m    667\u001b[0m         coerce_float\u001b[39m=\u001b[39;49mcoerce_float,\n\u001b[1;32m    668\u001b[0m         parse_dates\u001b[39m=\u001b[39;49mparse_dates,\n\u001b[1;32m    669\u001b[0m         chunksize\u001b[39m=\u001b[39;49mchunksize,\n\u001b[1;32m    670\u001b[0m         dtype_backend\u001b[39m=\u001b[39;49mdtype_backend,\n\u001b[1;32m    671\u001b[0m         dtype\u001b[39m=\u001b[39;49mdtype,\n\u001b[1;32m    672\u001b[0m     )\n",
                        "File \u001b[0;32m~/anaconda3/envs/appvoc/lib/python3.10/site-packages/pandas/io/sql.py:1738\u001b[0m, in \u001b[0;36mSQLDatabase.read_query\u001b[0;34m(self, sql, index_col, coerce_float, parse_dates, params, chunksize, dtype, dtype_backend)\u001b[0m\n\u001b[1;32m   1681\u001b[0m \u001b[39mdef\u001b[39;00m \u001b[39mread_query\u001b[39m(\n\u001b[1;32m   1682\u001b[0m     \u001b[39mself\u001b[39m,\n\u001b[1;32m   1683\u001b[0m     sql: \u001b[39mstr\u001b[39m,\n\u001b[0;32m   (...)\u001b[0m\n\u001b[1;32m   1690\u001b[0m     dtype_backend: DtypeBackend \u001b[39m|\u001b[39m Literal[\u001b[39m\"\u001b[39m\u001b[39mnumpy\u001b[39m\u001b[39m\"\u001b[39m] \u001b[39m=\u001b[39m \u001b[39m\"\u001b[39m\u001b[39mnumpy\u001b[39m\u001b[39m\"\u001b[39m,\n\u001b[1;32m   1691\u001b[0m ) \u001b[39m-\u001b[39m\u001b[39m>\u001b[39m DataFrame \u001b[39m|\u001b[39m Iterator[DataFrame]:\n\u001b[1;32m   1692\u001b[0m \u001b[39m    \u001b[39m\u001b[39m\"\"\"\u001b[39;00m\n\u001b[1;32m   1693\u001b[0m \u001b[39m    Read SQL query into a DataFrame.\u001b[39;00m\n\u001b[1;32m   1694\u001b[0m \n\u001b[0;32m   (...)\u001b[0m\n\u001b[1;32m   1736\u001b[0m \n\u001b[1;32m   1737\u001b[0m \u001b[39m    \"\"\"\u001b[39;00m\n\u001b[0;32m-> 1738\u001b[0m     result \u001b[39m=\u001b[39m \u001b[39mself\u001b[39;49m\u001b[39m.\u001b[39;49mexecute(sql, params)\n\u001b[1;32m   1739\u001b[0m     columns \u001b[39m=\u001b[39m result\u001b[39m.\u001b[39mkeys()\n\u001b[1;32m   1741\u001b[0m     \u001b[39mif\u001b[39;00m chunksize \u001b[39mis\u001b[39;00m \u001b[39mnot\u001b[39;00m \u001b[39mNone\u001b[39;00m:\n",
                        "File \u001b[0;32m~/anaconda3/envs/appvoc/lib/python3.10/site-packages/pandas/io/sql.py:1563\u001b[0m, in \u001b[0;36mSQLDatabase.execute\u001b[0;34m(self, sql, params)\u001b[0m\n\u001b[1;32m   1561\u001b[0m \u001b[39mif\u001b[39;00m \u001b[39misinstance\u001b[39m(sql, \u001b[39mstr\u001b[39m):\n\u001b[1;32m   1562\u001b[0m     \u001b[39mreturn\u001b[39;00m \u001b[39mself\u001b[39m\u001b[39m.\u001b[39mcon\u001b[39m.\u001b[39mexec_driver_sql(sql, \u001b[39m*\u001b[39margs)\n\u001b[0;32m-> 1563\u001b[0m \u001b[39mreturn\u001b[39;00m \u001b[39mself\u001b[39;49m\u001b[39m.\u001b[39;49mcon\u001b[39m.\u001b[39;49mexecute(sql, \u001b[39m*\u001b[39;49margs)\n",
                        "File \u001b[0;32m~/anaconda3/envs/appvoc/lib/python3.10/site-packages/sqlalchemy/engine/base.py:1412\u001b[0m, in \u001b[0;36mConnection.execute\u001b[0;34m(self, statement, parameters, execution_options)\u001b[0m\n\u001b[1;32m   1410\u001b[0m     \u001b[39mraise\u001b[39;00m exc\u001b[39m.\u001b[39mObjectNotExecutableError(statement) \u001b[39mfrom\u001b[39;00m \u001b[39merr\u001b[39;00m\n\u001b[1;32m   1411\u001b[0m \u001b[39melse\u001b[39;00m:\n\u001b[0;32m-> 1412\u001b[0m     \u001b[39mreturn\u001b[39;00m meth(\n\u001b[1;32m   1413\u001b[0m         \u001b[39mself\u001b[39;49m,\n\u001b[1;32m   1414\u001b[0m         distilled_parameters,\n\u001b[1;32m   1415\u001b[0m         execution_options \u001b[39mor\u001b[39;49;00m NO_OPTIONS,\n\u001b[1;32m   1416\u001b[0m     )\n",
                        "File \u001b[0;32m~/anaconda3/envs/appvoc/lib/python3.10/site-packages/sqlalchemy/sql/elements.py:483\u001b[0m, in \u001b[0;36mClauseElement._execute_on_connection\u001b[0;34m(self, connection, distilled_params, execution_options)\u001b[0m\n\u001b[1;32m    481\u001b[0m     \u001b[39mif\u001b[39;00m TYPE_CHECKING:\n\u001b[1;32m    482\u001b[0m         \u001b[39massert\u001b[39;00m \u001b[39misinstance\u001b[39m(\u001b[39mself\u001b[39m, Executable)\n\u001b[0;32m--> 483\u001b[0m     \u001b[39mreturn\u001b[39;00m connection\u001b[39m.\u001b[39;49m_execute_clauseelement(\n\u001b[1;32m    484\u001b[0m         \u001b[39mself\u001b[39;49m, distilled_params, execution_options\n\u001b[1;32m    485\u001b[0m     )\n\u001b[1;32m    486\u001b[0m \u001b[39melse\u001b[39;00m:\n\u001b[1;32m    487\u001b[0m     \u001b[39mraise\u001b[39;00m exc\u001b[39m.\u001b[39mObjectNotExecutableError(\u001b[39mself\u001b[39m)\n",
                        "File \u001b[0;32m~/anaconda3/envs/appvoc/lib/python3.10/site-packages/sqlalchemy/engine/base.py:1635\u001b[0m, in \u001b[0;36mConnection._execute_clauseelement\u001b[0;34m(self, elem, distilled_parameters, execution_options)\u001b[0m\n\u001b[1;32m   1623\u001b[0m compiled_cache: Optional[CompiledCacheType] \u001b[39m=\u001b[39m execution_options\u001b[39m.\u001b[39mget(\n\u001b[1;32m   1624\u001b[0m     \u001b[39m\"\u001b[39m\u001b[39mcompiled_cache\u001b[39m\u001b[39m\"\u001b[39m, \u001b[39mself\u001b[39m\u001b[39m.\u001b[39mengine\u001b[39m.\u001b[39m_compiled_cache\n\u001b[1;32m   1625\u001b[0m )\n\u001b[1;32m   1627\u001b[0m compiled_sql, extracted_params, cache_hit \u001b[39m=\u001b[39m elem\u001b[39m.\u001b[39m_compile_w_cache(\n\u001b[1;32m   1628\u001b[0m     dialect\u001b[39m=\u001b[39mdialect,\n\u001b[1;32m   1629\u001b[0m     compiled_cache\u001b[39m=\u001b[39mcompiled_cache,\n\u001b[0;32m   (...)\u001b[0m\n\u001b[1;32m   1633\u001b[0m     linting\u001b[39m=\u001b[39m\u001b[39mself\u001b[39m\u001b[39m.\u001b[39mdialect\u001b[39m.\u001b[39mcompiler_linting \u001b[39m|\u001b[39m compiler\u001b[39m.\u001b[39mWARN_LINTING,\n\u001b[1;32m   1634\u001b[0m )\n\u001b[0;32m-> 1635\u001b[0m ret \u001b[39m=\u001b[39m \u001b[39mself\u001b[39;49m\u001b[39m.\u001b[39;49m_execute_context(\n\u001b[1;32m   1636\u001b[0m     dialect,\n\u001b[1;32m   1637\u001b[0m     dialect\u001b[39m.\u001b[39;49mexecution_ctx_cls\u001b[39m.\u001b[39;49m_init_compiled,\n\u001b[1;32m   1638\u001b[0m     compiled_sql,\n\u001b[1;32m   1639\u001b[0m     distilled_parameters,\n\u001b[1;32m   1640\u001b[0m     execution_options,\n\u001b[1;32m   1641\u001b[0m     compiled_sql,\n\u001b[1;32m   1642\u001b[0m     distilled_parameters,\n\u001b[1;32m   1643\u001b[0m     elem,\n\u001b[1;32m   1644\u001b[0m     extracted_params,\n\u001b[1;32m   1645\u001b[0m     cache_hit\u001b[39m=\u001b[39;49mcache_hit,\n\u001b[1;32m   1646\u001b[0m )\n\u001b[1;32m   1647\u001b[0m \u001b[39mif\u001b[39;00m has_events:\n\u001b[1;32m   1648\u001b[0m     \u001b[39mself\u001b[39m\u001b[39m.\u001b[39mdispatch\u001b[39m.\u001b[39mafter_execute(\n\u001b[1;32m   1649\u001b[0m         \u001b[39mself\u001b[39m,\n\u001b[1;32m   1650\u001b[0m         elem,\n\u001b[0;32m   (...)\u001b[0m\n\u001b[1;32m   1654\u001b[0m         ret,\n\u001b[1;32m   1655\u001b[0m     )\n",
                        "File \u001b[0;32m~/anaconda3/envs/appvoc/lib/python3.10/site-packages/sqlalchemy/engine/base.py:1844\u001b[0m, in \u001b[0;36mConnection._execute_context\u001b[0;34m(self, dialect, constructor, statement, parameters, execution_options, *args, **kw)\u001b[0m\n\u001b[1;32m   1839\u001b[0m     \u001b[39mreturn\u001b[39;00m \u001b[39mself\u001b[39m\u001b[39m.\u001b[39m_exec_insertmany_context(\n\u001b[1;32m   1840\u001b[0m         dialect,\n\u001b[1;32m   1841\u001b[0m         context,\n\u001b[1;32m   1842\u001b[0m     )\n\u001b[1;32m   1843\u001b[0m \u001b[39melse\u001b[39;00m:\n\u001b[0;32m-> 1844\u001b[0m     \u001b[39mreturn\u001b[39;00m \u001b[39mself\u001b[39;49m\u001b[39m.\u001b[39;49m_exec_single_context(\n\u001b[1;32m   1845\u001b[0m         dialect, context, statement, parameters\n\u001b[1;32m   1846\u001b[0m     )\n",
                        "File \u001b[0;32m~/anaconda3/envs/appvoc/lib/python3.10/site-packages/sqlalchemy/engine/base.py:1984\u001b[0m, in \u001b[0;36mConnection._exec_single_context\u001b[0;34m(self, dialect, context, statement, parameters)\u001b[0m\n\u001b[1;32m   1981\u001b[0m     result \u001b[39m=\u001b[39m context\u001b[39m.\u001b[39m_setup_result_proxy()\n\u001b[1;32m   1983\u001b[0m \u001b[39mexcept\u001b[39;00m \u001b[39mBaseException\u001b[39;00m \u001b[39mas\u001b[39;00m e:\n\u001b[0;32m-> 1984\u001b[0m     \u001b[39mself\u001b[39;49m\u001b[39m.\u001b[39;49m_handle_dbapi_exception(\n\u001b[1;32m   1985\u001b[0m         e, str_statement, effective_parameters, cursor, context\n\u001b[1;32m   1986\u001b[0m     )\n\u001b[1;32m   1988\u001b[0m \u001b[39mreturn\u001b[39;00m result\n",
                        "File \u001b[0;32m~/anaconda3/envs/appvoc/lib/python3.10/site-packages/sqlalchemy/engine/base.py:2339\u001b[0m, in \u001b[0;36mConnection._handle_dbapi_exception\u001b[0;34m(self, e, statement, parameters, cursor, context, is_sub_exec)\u001b[0m\n\u001b[1;32m   2337\u001b[0m \u001b[39melif\u001b[39;00m should_wrap:\n\u001b[1;32m   2338\u001b[0m     \u001b[39massert\u001b[39;00m sqlalchemy_exception \u001b[39mis\u001b[39;00m \u001b[39mnot\u001b[39;00m \u001b[39mNone\u001b[39;00m\n\u001b[0;32m-> 2339\u001b[0m     \u001b[39mraise\u001b[39;00m sqlalchemy_exception\u001b[39m.\u001b[39mwith_traceback(exc_info[\u001b[39m2\u001b[39m]) \u001b[39mfrom\u001b[39;00m \u001b[39me\u001b[39;00m\n\u001b[1;32m   2340\u001b[0m \u001b[39melse\u001b[39;00m:\n\u001b[1;32m   2341\u001b[0m     \u001b[39massert\u001b[39;00m exc_info[\u001b[39m1\u001b[39m] \u001b[39mis\u001b[39;00m \u001b[39mnot\u001b[39;00m \u001b[39mNone\u001b[39;00m\n",
                        "File \u001b[0;32m~/anaconda3/envs/appvoc/lib/python3.10/site-packages/sqlalchemy/engine/base.py:1965\u001b[0m, in \u001b[0;36mConnection._exec_single_context\u001b[0;34m(self, dialect, context, statement, parameters)\u001b[0m\n\u001b[1;32m   1963\u001b[0m                 \u001b[39mbreak\u001b[39;00m\n\u001b[1;32m   1964\u001b[0m     \u001b[39mif\u001b[39;00m \u001b[39mnot\u001b[39;00m evt_handled:\n\u001b[0;32m-> 1965\u001b[0m         \u001b[39mself\u001b[39;49m\u001b[39m.\u001b[39;49mdialect\u001b[39m.\u001b[39;49mdo_execute(\n\u001b[1;32m   1966\u001b[0m             cursor, str_statement, effective_parameters, context\n\u001b[1;32m   1967\u001b[0m         )\n\u001b[1;32m   1969\u001b[0m \u001b[39mif\u001b[39;00m \u001b[39mself\u001b[39m\u001b[39m.\u001b[39m_has_events \u001b[39mor\u001b[39;00m \u001b[39mself\u001b[39m\u001b[39m.\u001b[39mengine\u001b[39m.\u001b[39m_has_events:\n\u001b[1;32m   1970\u001b[0m     \u001b[39mself\u001b[39m\u001b[39m.\u001b[39mdispatch\u001b[39m.\u001b[39mafter_cursor_execute(\n\u001b[1;32m   1971\u001b[0m         \u001b[39mself\u001b[39m,\n\u001b[1;32m   1972\u001b[0m         cursor,\n\u001b[0;32m   (...)\u001b[0m\n\u001b[1;32m   1976\u001b[0m         context\u001b[39m.\u001b[39mexecutemany,\n\u001b[1;32m   1977\u001b[0m     )\n",
                        "File \u001b[0;32m~/anaconda3/envs/appvoc/lib/python3.10/site-packages/sqlalchemy/engine/default.py:921\u001b[0m, in \u001b[0;36mDefaultDialect.do_execute\u001b[0;34m(self, cursor, statement, parameters, context)\u001b[0m\n\u001b[1;32m    920\u001b[0m \u001b[39mdef\u001b[39;00m \u001b[39mdo_execute\u001b[39m(\u001b[39mself\u001b[39m, cursor, statement, parameters, context\u001b[39m=\u001b[39m\u001b[39mNone\u001b[39;00m):\n\u001b[0;32m--> 921\u001b[0m     cursor\u001b[39m.\u001b[39;49mexecute(statement, parameters)\n",
                        "File \u001b[0;32m~/anaconda3/envs/appvoc/lib/python3.10/site-packages/pymysql/cursors.py:148\u001b[0m, in \u001b[0;36mCursor.execute\u001b[0;34m(self, query, args)\u001b[0m\n\u001b[1;32m    144\u001b[0m     \u001b[39mpass\u001b[39;00m\n\u001b[1;32m    146\u001b[0m query \u001b[39m=\u001b[39m \u001b[39mself\u001b[39m\u001b[39m.\u001b[39mmogrify(query, args)\n\u001b[0;32m--> 148\u001b[0m result \u001b[39m=\u001b[39m \u001b[39mself\u001b[39;49m\u001b[39m.\u001b[39;49m_query(query)\n\u001b[1;32m    149\u001b[0m \u001b[39mself\u001b[39m\u001b[39m.\u001b[39m_executed \u001b[39m=\u001b[39m query\n\u001b[1;32m    150\u001b[0m \u001b[39mreturn\u001b[39;00m result\n",
                        "File \u001b[0;32m~/anaconda3/envs/appvoc/lib/python3.10/site-packages/pymysql/cursors.py:310\u001b[0m, in \u001b[0;36mCursor._query\u001b[0;34m(self, q)\u001b[0m\n\u001b[1;32m    308\u001b[0m \u001b[39mself\u001b[39m\u001b[39m.\u001b[39m_last_executed \u001b[39m=\u001b[39m q\n\u001b[1;32m    309\u001b[0m \u001b[39mself\u001b[39m\u001b[39m.\u001b[39m_clear_result()\n\u001b[0;32m--> 310\u001b[0m conn\u001b[39m.\u001b[39;49mquery(q)\n\u001b[1;32m    311\u001b[0m \u001b[39mself\u001b[39m\u001b[39m.\u001b[39m_do_get_result()\n\u001b[1;32m    312\u001b[0m \u001b[39mreturn\u001b[39;00m \u001b[39mself\u001b[39m\u001b[39m.\u001b[39mrowcount\n",
                        "File \u001b[0;32m~/anaconda3/envs/appvoc/lib/python3.10/site-packages/pymysql/connections.py:548\u001b[0m, in \u001b[0;36mConnection.query\u001b[0;34m(self, sql, unbuffered)\u001b[0m\n\u001b[1;32m    546\u001b[0m     sql \u001b[39m=\u001b[39m sql\u001b[39m.\u001b[39mencode(\u001b[39mself\u001b[39m\u001b[39m.\u001b[39mencoding, \u001b[39m\"\u001b[39m\u001b[39msurrogateescape\u001b[39m\u001b[39m\"\u001b[39m)\n\u001b[1;32m    547\u001b[0m \u001b[39mself\u001b[39m\u001b[39m.\u001b[39m_execute_command(COMMAND\u001b[39m.\u001b[39mCOM_QUERY, sql)\n\u001b[0;32m--> 548\u001b[0m \u001b[39mself\u001b[39m\u001b[39m.\u001b[39m_affected_rows \u001b[39m=\u001b[39m \u001b[39mself\u001b[39;49m\u001b[39m.\u001b[39;49m_read_query_result(unbuffered\u001b[39m=\u001b[39;49munbuffered)\n\u001b[1;32m    549\u001b[0m \u001b[39mreturn\u001b[39;00m \u001b[39mself\u001b[39m\u001b[39m.\u001b[39m_affected_rows\n",
                        "File \u001b[0;32m~/anaconda3/envs/appvoc/lib/python3.10/site-packages/pymysql/connections.py:775\u001b[0m, in \u001b[0;36mConnection._read_query_result\u001b[0;34m(self, unbuffered)\u001b[0m\n\u001b[1;32m    773\u001b[0m \u001b[39melse\u001b[39;00m:\n\u001b[1;32m    774\u001b[0m     result \u001b[39m=\u001b[39m MySQLResponse(\u001b[39mself\u001b[39m)\n\u001b[0;32m--> 775\u001b[0m     result\u001b[39m.\u001b[39;49mread()\n\u001b[1;32m    776\u001b[0m \u001b[39mself\u001b[39m\u001b[39m.\u001b[39m_result \u001b[39m=\u001b[39m result\n\u001b[1;32m    777\u001b[0m \u001b[39mif\u001b[39;00m result\u001b[39m.\u001b[39mserver_status \u001b[39mis\u001b[39;00m \u001b[39mnot\u001b[39;00m \u001b[39mNone\u001b[39;00m:\n",
                        "File \u001b[0;32m~/anaconda3/envs/appvoc/lib/python3.10/site-packages/pymysql/connections.py:1156\u001b[0m, in \u001b[0;36mMySQLResponse.read\u001b[0;34m(self)\u001b[0m\n\u001b[1;32m   1154\u001b[0m \u001b[39mdef\u001b[39;00m \u001b[39mread\u001b[39m(\u001b[39mself\u001b[39m):\n\u001b[1;32m   1155\u001b[0m     \u001b[39mtry\u001b[39;00m:\n\u001b[0;32m-> 1156\u001b[0m         first_packet \u001b[39m=\u001b[39m \u001b[39mself\u001b[39;49m\u001b[39m.\u001b[39;49mconnection\u001b[39m.\u001b[39;49m_read_packet()\n\u001b[1;32m   1158\u001b[0m         \u001b[39mif\u001b[39;00m first_packet\u001b[39m.\u001b[39mis_ok_packet():\n\u001b[1;32m   1159\u001b[0m             \u001b[39mself\u001b[39m\u001b[39m.\u001b[39m_read_ok_packet(first_packet)\n",
                        "File \u001b[0;32m~/anaconda3/envs/appvoc/lib/python3.10/site-packages/pymysql/connections.py:725\u001b[0m, in \u001b[0;36mConnection._read_packet\u001b[0;34m(self, packet_type)\u001b[0m\n\u001b[1;32m    723\u001b[0m     \u001b[39mif\u001b[39;00m \u001b[39mself\u001b[39m\u001b[39m.\u001b[39m_result \u001b[39mis\u001b[39;00m \u001b[39mnot\u001b[39;00m \u001b[39mNone\u001b[39;00m \u001b[39mand\u001b[39;00m \u001b[39mself\u001b[39m\u001b[39m.\u001b[39m_result\u001b[39m.\u001b[39munbuffered_active \u001b[39mis\u001b[39;00m \u001b[39mTrue\u001b[39;00m:\n\u001b[1;32m    724\u001b[0m         \u001b[39mself\u001b[39m\u001b[39m.\u001b[39m_result\u001b[39m.\u001b[39munbuffered_active \u001b[39m=\u001b[39m \u001b[39mFalse\u001b[39;00m\n\u001b[0;32m--> 725\u001b[0m     packet\u001b[39m.\u001b[39;49mraise_for_error()\n\u001b[1;32m    726\u001b[0m \u001b[39mreturn\u001b[39;00m packet\n",
                        "File \u001b[0;32m~/anaconda3/envs/appvoc/lib/python3.10/site-packages/pymysql/protocol.py:221\u001b[0m, in \u001b[0;36mMysqlPacket.raise_for_error\u001b[0;34m(self)\u001b[0m\n\u001b[1;32m    219\u001b[0m \u001b[39mif\u001b[39;00m DEBUG:\n\u001b[1;32m    220\u001b[0m     \u001b[39mprint\u001b[39m(\u001b[39m\"\u001b[39m\u001b[39merrno =\u001b[39m\u001b[39m\"\u001b[39m, errno)\n\u001b[0;32m--> 221\u001b[0m err\u001b[39m.\u001b[39;49mraise_mysql_exception(\u001b[39mself\u001b[39;49m\u001b[39m.\u001b[39;49m_data)\n",
                        "File \u001b[0;32m~/anaconda3/envs/appvoc/lib/python3.10/site-packages/pymysql/err.py:143\u001b[0m, in \u001b[0;36mraise_mysql_exception\u001b[0;34m(data)\u001b[0m\n\u001b[1;32m    141\u001b[0m \u001b[39mif\u001b[39;00m errorclass \u001b[39mis\u001b[39;00m \u001b[39mNone\u001b[39;00m:\n\u001b[1;32m    142\u001b[0m     errorclass \u001b[39m=\u001b[39m InternalError \u001b[39mif\u001b[39;00m errno \u001b[39m<\u001b[39m \u001b[39m1000\u001b[39m \u001b[39melse\u001b[39;00m OperationalError\n\u001b[0;32m--> 143\u001b[0m \u001b[39mraise\u001b[39;00m errorclass(errno, errval)\n",
                        "\u001b[0;31mProgrammingError\u001b[0m: (pymysql.err.ProgrammingError) (1146, \"Table 'appvoc_raw.app' doesn't exist\")\n[SQL: SELECT * FROM app;]\n(Background on this error at: https://sqlalche.me/e/20/f405)"
                    ]
                }
            ],
            "source": [
                "repo = container.data.app_repo()\n",
                "dataset = repo.get_dataset()"
            ]
        },
        {
            "cell_type": "markdown",
            "metadata": {},
            "source": [
                "The dataset contains the following product descriptive, rating, price, and developer data for some 475,132 apps from the App Store. \n",
                "\n",
                "| #  | Variable                | Date Type  | Description                                |\n",
                "|----|-------------------------|------------|--------------------------------------------|\n",
                "| 1  | id                      | Nominal    | App Id from the App Store                  |\n",
                "| 2  | name                    | Nominal    | App Name                                   |\n",
                "| 3  | description             | Nominal    | App Description                            |\n",
                "| 4  | category_id             | Nominal | Numeric category identifier                |\n",
                "| 5  | category                | Nominal    | Category name                              |\n",
                "| 6  | price                   | Continuous | App Price                                  |\n",
                "| 7  | developer_id            | Nominal    | Identifier for the developer               |\n",
                "| 8  | developer               | Nominal    | Name of the developer                      |\n",
                "| 9  | rating                  | Ordinal   | Average user rating since first released   |\n",
                "| 10 | ratings                 | Discrete   | Number of ratings since first release      |\n",
                "| 11 | released                | Continuous   | Datetime of first release                  |\n",
                "\n",
                "The structure is summarized as follows."
            ]
        },
        {
            "cell_type": "code",
            "execution_count": null,
            "metadata": {},
            "outputs": [],
            "source": [
                "df1 = dataset.overview\n",
                "df2 = dataset.dtypes\n",
                "\n",
                "df1_style = df1.style.set_table_attributes(\"style='display:inline; margin-right:220px;'\").set_caption(\"Dataset Structure\")\n",
                "df2_style = df2.T.style.set_table_attributes(\"style='display:inline; margin-right:120px'\").set_caption(\"Dataset Data Types\")\n",
                "\n",
                "display_html(df1_style._repr_html_() + df2_style._repr_html_(), raw=True)"
            ]
        },
        {
            "cell_type": "markdown",
            "metadata": {},
            "source": [
                "Summarizing the structure of the app dataset, we have:\n",
                "- 475,132 observations described by 11 variables in approximately 7 million cells. \n",
                "- Id, name, description, developer id, and developer are nominal string variables. \n",
                "- Category id, and category are both category data types. \n",
                "- Price and rating are floats, and ratings is an integer.  \n",
                "\n",
                "Let's examine completeness.\n",
                "\n",
                "### Completeness"
            ]
        },
        {
            "cell_type": "code",
            "execution_count": null,
            "metadata": {},
            "outputs": [],
            "source": [
                "dataset.info.style.hide(axis=\"index\")"
            ]
        },
        {
            "cell_type": "markdown",
            "metadata": {},
            "source": [
                "With the exception of released (date), all variables are non-null. As such, approximately 93% of the observations are complete, 7% lack a release date. Rating count is a facet that will be examined during exploratory data analysis. All apps are presumed to be active; therefore, apps with earlier release dates have larger windows of time to attract ratings. To remove this temporal dimension from the rating count analysis, we'll create a new variable that normalizes the rate count (ratings) by the months that the app was available on the market. Apps without release dates must therefore, be excluded from this analysis. However, this would not justify removal from the dataset as these observations carry additional information, such as average rating, rating count, developer and so on.  Completeness is estimated at 93%, and no observations will be removed at this stage.\n",
                "\n",
                "Next, we'll check validity.\n",
                "### Validity\n",
                "Our ability to assess validity of id, name, description, developer_id, and developer variables is limited. Though we have no way of testing this assumption, we take the position that any non-null value in those variables is valid.  For the rest, we define validity as follows:\n",
                "\n",
                "| # | name        | validity                                                                                        |\n",
                "|---|-------------|-------------------------------------------------------------------------------------------------|\n",
                "| 1 | category_id | One of the 26, four digit category ids published by Apple.                                      |\n",
                "| 2 | category    | One of the 26 categories published by Apple                                                     |\n",
                "| 3 | price       | Any non-negative real value.                                                                    |\n",
                "| 4 | rating      | Any real value in [0,5].                                                                        |\n",
                "| 5 | ratings     | Any non-negative integer value                                                                  |\n",
                "| 6 | released    | A datetime on or after July, 10, 2008. Some apps are recorded as having   future release dates. |\n",
                "\n",
                "Let's check category and category id."
            ]
        },
        {
            "cell_type": "code",
            "execution_count": null,
            "metadata": {},
            "outputs": [],
            "source": [
                "columns = ['category_id', 'category']\n",
                "dataset.unique(columns=columns).style.hide(axis=\"index\")"
            ]
        },
        {
            "cell_type": "markdown",
            "metadata": {},
            "source": [
                "All category values are valid. Next, price, rating and ratings."
            ]
        },
        {
            "cell_type": "code",
            "execution_count": null,
            "metadata": {},
            "outputs": [],
            "source": [
                "stats = dataset.describe(include=[np.number, \"datetime64[ns]\"])\n",
                "stats.numeric.T[['min', 'max']]"
            ]
        },
        {
            "cell_type": "markdown",
            "metadata": {},
            "source": [
                "Ratings and price are non-negative, and rating values are beteen zero and five. Finally, let's check release date. "
            ]
        },
        {
            "cell_type": "code",
            "execution_count": null,
            "metadata": {},
            "outputs": [],
            "source": [
                "condition = lambda df: df[\"released\"] == df[\"released\"].min()\n",
                "first_released = dataset.subset(condition=condition)\n",
                "first_released['released'].values[0].astype(str)\n",
                "condition = lambda df: df[\"released\"] == df[\"released\"].max()\n",
                "last_released = dataset.subset(condition=condition)\n",
                "last_released['released'].values[0].astype(str)\n",
                "first_released, last_released"
            ]
        }
    ],
    "metadata": {
        "kernelspec": {
            "display_name": "appvoc",
            "language": "python",
            "name": "python3"
        },
        "language_info": {
            "codemirror_mode": {
                "name": "ipython",
                "version": 3
            },
            "file_extension": ".py",
            "mimetype": "text/x-python",
            "name": "python",
            "nbconvert_exporter": "python",
            "pygments_lexer": "ipython3",
            "version": "3.10.12"
        },
        "orig_nbformat": 4
    },
    "nbformat": 4,
    "nbformat_minor": 2
}