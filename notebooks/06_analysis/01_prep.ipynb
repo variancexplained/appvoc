{
    "cells": [
        {
            "cell_type": "markdown",
            "metadata": {},
            "source": [
                "# Analysis Data Prep"
            ]
        },
        {
            "cell_type": "code",
            "execution_count": 1,
            "metadata": {},
            "outputs": [],
            "source": [
                "from appvoc.infrastructure.file.io import IOService"
            ]
        },
        {
            "cell_type": "markdown",
            "metadata": {},
            "source": [
                "## Parameters"
            ]
        },
        {
            "cell_type": "code",
            "execution_count": 2,
            "metadata": {},
            "outputs": [],
            "source": [
                "fp = \"data/prod/datasets/reviews/review_processed_2024-04-13.pkl\"\n",
                "fp_train = \"data/prod/datasets/reviews/books/books_train.pkl\"\n",
                "fp_val = \"data/prod/datasets/reviews/books/books_val.pkl\"\n",
                "fp_test = \"data/prod/datasets/reviews/books/books_test.pkl\"\n",
                "train_frac = 0.8\n"
            ]
        },
        {
            "cell_type": "markdown",
            "metadata": {},
            "source": [
                "## Load Reviews"
            ]
        },
        {
            "cell_type": "code",
            "execution_count": 3,
            "metadata": {},
            "outputs": [
                {
                    "data": {
                        "text/html": [
                            "<div>\n",
                            "<style scoped>\n",
                            "    .dataframe tbody tr th:only-of-type {\n",
                            "        vertical-align: middle;\n",
                            "    }\n",
                            "\n",
                            "    .dataframe tbody tr th {\n",
                            "        vertical-align: top;\n",
                            "    }\n",
                            "\n",
                            "    .dataframe thead th {\n",
                            "        text-align: right;\n",
                            "    }\n",
                            "</style>\n",
                            "<table border=\"1\" class=\"dataframe\">\n",
                            "  <thead>\n",
                            "    <tr style=\"text-align: right;\">\n",
                            "      <th></th>\n",
                            "      <th>id</th>\n",
                            "      <th>app_id</th>\n",
                            "      <th>app_name</th>\n",
                            "      <th>category_id</th>\n",
                            "      <th>category</th>\n",
                            "      <th>author</th>\n",
                            "      <th>rating</th>\n",
                            "      <th>title</th>\n",
                            "      <th>content</th>\n",
                            "      <th>vote_sum</th>\n",
                            "      <th>vote_count</th>\n",
                            "      <th>date</th>\n",
                            "      <th>extracted</th>\n",
                            "      <th>review_length</th>\n",
                            "      <th>title_length</th>\n",
                            "    </tr>\n",
                            "  </thead>\n",
                            "  <tbody>\n",
                            "    <tr>\n",
                            "      <th>0</th>\n",
                            "      <td>9871723528</td>\n",
                            "      <td>1640547532</td>\n",
                            "      <td>Intellscan</td>\n",
                            "      <td>6007</td>\n",
                            "      <td>Productivity</td>\n",
                            "      <td>ahhcrjdh</td>\n",
                            "      <td>5.00</td>\n",
                            "      <td>I love it</td>\n",
                            "      <td>It really helped me remove my viruses</td>\n",
                            "      <td>0</td>\n",
                            "      <td>0</td>\n",
                            "      <td>2023-04-28 23:01:00</td>\n",
                            "      <td>2023-07-31 05:00:00</td>\n",
                            "      <td>7</td>\n",
                            "      <td>3</td>\n",
                            "    </tr>\n",
                            "    <tr>\n",
                            "      <th>1</th>\n",
                            "      <td>9861357638</td>\n",
                            "      <td>1640547532</td>\n",
                            "      <td>Intellscan</td>\n",
                            "      <td>6007</td>\n",
                            "      <td>Productivity</td>\n",
                            "      <td>Garza’s</td>\n",
                            "      <td>5.00</td>\n",
                            "      <td>Best app ever</td>\n",
                            "      <td>Help move all my virus</td>\n",
                            "      <td>1</td>\n",
                            "      <td>3</td>\n",
                            "      <td>2023-04-26 00:15:00</td>\n",
                            "      <td>2023-07-31 05:00:00</td>\n",
                            "      <td>5</td>\n",
                            "      <td>3</td>\n",
                            "    </tr>\n",
                            "    <tr>\n",
                            "      <th>2</th>\n",
                            "      <td>4446752654</td>\n",
                            "      <td>507828762</td>\n",
                            "      <td>Super Tank Battle - MobileArmy</td>\n",
                            "      <td>6007</td>\n",
                            "      <td>Productivity</td>\n",
                            "      <td>alghzayl</td>\n",
                            "      <td>4.00</td>\n",
                            "      <td>restarted from beginning after reset network s...</td>\n",
                            "      <td>very good game.\n",
                            "i have been playing this game ...</td>\n",
                            "      <td>0</td>\n",
                            "      <td>0</td>\n",
                            "      <td>2019-07-12 07:12:00</td>\n",
                            "      <td>2023-07-31 05:00:00</td>\n",
                            "      <td>58</td>\n",
                            "      <td>7</td>\n",
                            "    </tr>\n",
                            "    <tr>\n",
                            "      <th>3</th>\n",
                            "      <td>6416164073</td>\n",
                            "      <td>507828762</td>\n",
                            "      <td>Super Tank Battle - MobileArmy</td>\n",
                            "      <td>6007</td>\n",
                            "      <td>Productivity</td>\n",
                            "      <td>Uncoolcentral</td>\n",
                            "      <td>2.00</td>\n",
                            "      <td>Ads. Ads. Ads.</td>\n",
                            "      <td>Do I like this game? I don’t know. After playi...</td>\n",
                            "      <td>1</td>\n",
                            "      <td>1</td>\n",
                            "      <td>2020-09-10 23:25:00</td>\n",
                            "      <td>2023-07-31 05:00:00</td>\n",
                            "      <td>119</td>\n",
                            "      <td>3</td>\n",
                            "    </tr>\n",
                            "    <tr>\n",
                            "      <th>4</th>\n",
                            "      <td>9175904502</td>\n",
                            "      <td>507828762</td>\n",
                            "      <td>Super Tank Battle - MobileArmy</td>\n",
                            "      <td>6007</td>\n",
                            "      <td>Productivity</td>\n",
                            "      <td>mdalexander</td>\n",
                            "      <td>1.00</td>\n",
                            "      <td>Next stage</td>\n",
                            "      <td>This app seems to have a bug that prevents me ...</td>\n",
                            "      <td>0</td>\n",
                            "      <td>0</td>\n",
                            "      <td>2022-10-12 05:34:00</td>\n",
                            "      <td>2023-07-31 05:00:00</td>\n",
                            "      <td>50</td>\n",
                            "      <td>2</td>\n",
                            "    </tr>\n",
                            "  </tbody>\n",
                            "</table>\n",
                            "</div>"
                        ],
                        "text/plain": [
                            "           id      app_id                        app_name category_id  \\\n",
                            "0  9871723528  1640547532                      Intellscan        6007   \n",
                            "1  9861357638  1640547532                      Intellscan        6007   \n",
                            "2  4446752654   507828762  Super Tank Battle - MobileArmy        6007   \n",
                            "3  6416164073   507828762  Super Tank Battle - MobileArmy        6007   \n",
                            "4  9175904502   507828762  Super Tank Battle - MobileArmy        6007   \n",
                            "\n",
                            "       category          author  rating  \\\n",
                            "0  Productivity        ahhcrjdh    5.00   \n",
                            "1  Productivity         Garza’s    5.00   \n",
                            "2  Productivity        alghzayl    4.00   \n",
                            "3  Productivity  Uncoolcentral     2.00   \n",
                            "4  Productivity     mdalexander    1.00   \n",
                            "\n",
                            "                                               title  \\\n",
                            "0                                          I love it   \n",
                            "1                                      Best app ever   \n",
                            "2  restarted from beginning after reset network s...   \n",
                            "3                                     Ads. Ads. Ads.   \n",
                            "4                                         Next stage   \n",
                            "\n",
                            "                                             content  vote_sum  vote_count  \\\n",
                            "0              It really helped me remove my viruses         0           0   \n",
                            "1                             Help move all my virus         1           3   \n",
                            "2  very good game.\n",
                            "i have been playing this game ...         0           0   \n",
                            "3  Do I like this game? I don’t know. After playi...         1           1   \n",
                            "4  This app seems to have a bug that prevents me ...         0           0   \n",
                            "\n",
                            "                 date           extracted  review_length  title_length  \n",
                            "0 2023-04-28 23:01:00 2023-07-31 05:00:00              7             3  \n",
                            "1 2023-04-26 00:15:00 2023-07-31 05:00:00              5             3  \n",
                            "2 2019-07-12 07:12:00 2023-07-31 05:00:00             58             7  \n",
                            "3 2020-09-10 23:25:00 2023-07-31 05:00:00            119             3  \n",
                            "4 2022-10-12 05:34:00 2023-07-31 05:00:00             50             2  "
                        ]
                    },
                    "execution_count": 3,
                    "metadata": {},
                    "output_type": "execute_result"
                },
                {
                    "data": {
                        "text/plain": [
                            "category\n",
                            "Health & Fitness     3946182\n",
                            "Utilities            3086463\n",
                            "Social Networking    2735869\n",
                            "Entertainment        2021932\n",
                            "Lifestyle            1719540\n",
                            "Business             1405019\n",
                            "Education            1123295\n",
                            "Productivity          822674\n",
                            "Book                  792259\n",
                            "Medical               647793\n",
                            "Shopping                   9\n",
                            "Name: count, dtype: int64"
                        ]
                    },
                    "execution_count": 3,
                    "metadata": {},
                    "output_type": "execute_result"
                }
            ],
            "source": [
                "reviews = IOService.read(fp)\n",
                "reviews.head()\n",
                "reviews[\"category\"].value_counts()\n"
            ]
        },
        {
            "cell_type": "markdown",
            "metadata": {},
            "source": [
                "## Extract Book Review Datasets"
            ]
        },
        {
            "cell_type": "code",
            "execution_count": 4,
            "metadata": {},
            "outputs": [
                {
                    "name": "stdout",
                    "output_type": "stream",
                    "text": [
                        "     Total Reviews: 350756\n",
                        "     Train Reviews: 280604\n",
                        "Validation Reviews: 35076\n",
                        "      Test Reviews: 35075\n"
                    ]
                }
            ],
            "source": [
                "# Extract book reviews with titles greater than 2 words\n",
                "book_reviews = reviews.loc[(reviews[\"category\"] == \"Book\") & (reviews[\"title_length\"] > 2)][['app_name', 'title', 'content']]\n",
                "# Shuffle \n",
                "book_reviews = book_reviews.sample(frac=1).reset_index(drop=True)\n",
                "# Split\n",
                "book_reviews_train = book_reviews[0:int(train_frac*len(book_reviews))]\n",
                "book_reviews_val = book_reviews[int(train_frac*len(book_reviews)):int((train_frac+(1-train_frac)/2)*len(book_reviews))]\n",
                "book_reviews_test = book_reviews[int((train_frac+(1-train_frac)/2)*len(book_reviews)):-1]\n",
                "IOService.write(filepath=fp_train, data=book_reviews_train)\n",
                "IOService.write(filepath=fp_val, data=book_reviews_val)\n",
                "IOService.write(filepath=fp_test, data=book_reviews_test)\n",
                "\n",
                "print(f\"     Total Reviews: {book_reviews.shape[0]}\")\n",
                "print(f\"     Train Reviews: {book_reviews_train.shape[0]}\")\n",
                "print(f\"Validation Reviews: {book_reviews_val.shape[0]}\")\n",
                "print(f\"      Test Reviews: {book_reviews_test.shape[0]}\")"
            ]
        }
    ],
    "metadata": {
        "kernelspec": {
            "display_name": "appvoc",
            "language": "python",
            "name": "python3"
        },
        "language_info": {
            "codemirror_mode": {
                "name": "ipython",
                "version": 3
            },
            "file_extension": ".py",
            "mimetype": "text/x-python",
            "name": "python",
            "nbconvert_exporter": "python",
            "pygments_lexer": "ipython3",
            "version": "3.10.12"
        }
    },
    "nbformat": 4,
    "nbformat_minor": 2
}