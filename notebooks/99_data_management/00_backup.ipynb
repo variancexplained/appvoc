{
    "cells": [
        {
            "cell_type": "markdown",
            "metadata": {},
            "source": [
                "# Storage\n",
                "Backup,recovery, and archive. Put mode on prod."
            ]
        },
        {
            "cell_type": "code",
            "execution_count": 1,
            "metadata": {},
            "outputs": [],
            "source": [
                "import os\n",
                "import pandas as pd\n",
                "from appvoc.container import AppVoCContainer\n",
                "from appvoc.data.storage.manager import DataStorageManager"
            ]
        },
        {
            "cell_type": "code",
            "execution_count": 2,
            "metadata": {},
            "outputs": [],
            "source": [
                "container = AppVoCContainer()\n",
                "container.init_resources()\n",
                "container.wire(packages=[\"appvoc.data.acquisition\", \"appvoc.data.dataset\", \"appvoc.data.storage\"]\n",
                "    )"
            ]
        },
        {
            "cell_type": "markdown",
            "metadata": {},
            "source": [
                "## Data Storage Manager"
            ]
        },
        {
            "cell_type": "code",
            "execution_count": 3,
            "metadata": {},
            "outputs": [
                {
                    "name": "stderr",
                    "output_type": "stream",
                    "text": [
                        "[09/17/2023 11:14:51 AM] [INFO] [MySQLDatabase] [connect] : Database is not started. Starting database...\n",
                        "[sudo] password for john: "
                    ]
                },
                {
                    "name": "stdout",
                    "output_type": "stream",
                    "text": [
                        "\n",
                        "Starting MySQL...\n",
                        " * Starting MySQL database server mysqld\n"
                    ]
                },
                {
                    "name": "stderr",
                    "output_type": "stream",
                    "text": [
                        "su: warning: cannot change directory to /nonexistent: No such file or directory\n"
                    ]
                },
                {
                    "name": "stdout",
                    "output_type": "stream",
                    "text": [
                        "   ...done.\n"
                    ]
                }
            ],
            "source": [
                "dsm = DataStorageManager()\n"
            ]
        },
        {
            "cell_type": "markdown",
            "metadata": {},
            "source": [
                "## Backup"
            ]
        },
        {
            "cell_type": "code",
            "execution_count": 4,
            "metadata": {},
            "outputs": [
                {
                    "name": "stderr",
                    "output_type": "stream",
                    "text": [
                        "mysqldump: [Warning] Using a password on the command line interface can be insecure.\n",
                        "[09/17/2023 11:17:43 AM] [INFO] [DataStorageManager] [backup] : Backed up database to /home/john/projects/appvoc/data/raw/database/appvoc_2023-09-17_T111457.sql\n"
                    ]
                }
            ],
            "source": [
                "filepath = dsm.backup()"
            ]
        },
        {
            "cell_type": "markdown",
            "metadata": {},
            "source": [
                "## Archive"
            ]
        },
        {
            "cell_type": "code",
            "execution_count": 5,
            "metadata": {},
            "outputs": [
                {
                    "name": "stderr",
                    "output_type": "stream",
                    "text": [
                        "[09/17/2023 11:43:29 AM] [INFO] [FileArchiver] [archive] : Archived the database to /home/john/projects/appvoc/data/raw/archive/staging/appvoc_2023-09-17_T113629.tar.gz\n",
                        "[09/17/2023 11:43:29 AM] [INFO] [FileArchiver] [archive] : Moved the archive out of the staging area.\n",
                        "[09/17/2023 11:43:30 AM] [INFO] [FileArchiver] [archive] : Purged staging area\n"
                    ]
                },
                {
                    "data": {
                        "text/plain": [
                            "'data/raw/archive/appvoc_2023-09-17_T113629.tar.gz'"
                        ]
                    },
                    "execution_count": 5,
                    "metadata": {},
                    "output_type": "execute_result"
                }
            ],
            "source": [
                "filepath = dsm.archive()\n",
                "filepath"
            ]
        },
        {
            "cell_type": "markdown",
            "metadata": {},
            "source": [
                "## Upload"
            ]
        },
        {
            "cell_type": "code",
            "execution_count": 6,
            "metadata": {},
            "outputs": [
                {
                    "name": "stderr",
                    "output_type": "stream",
                    "text": [
                        "[09/17/2023 11:47:36 AM] [INFO] [botocore.credentials] [load] : Found credentials in shared credentials file: ~/.aws/credentials\n",
                        "[09/17/2023 12:12:10 PM] [INFO] [AWS] [upload] : Uploaded data/raw/archive/appvoc_2023-09-17_T113629.tar.gz to appvoc-raw\n"
                    ]
                }
            ],
            "source": [
                "fp = 'data/raw/archive/appvoc_2023-09-17_T113629.tar.gz'\n",
                "dsm.upload(filepath=fp)"
            ]
        }
    ],
    "metadata": {
        "kernelspec": {
            "display_name": "appvoc",
            "language": "python",
            "name": "python3"
        },
        "language_info": {
            "codemirror_mode": {
                "name": "ipython",
                "version": 3
            },
            "file_extension": ".py",
            "mimetype": "text/x-python",
            "name": "python",
            "nbconvert_exporter": "python",
            "pygments_lexer": "ipython3",
            "version": "3.10.12"
        },
        "orig_nbformat": 4
    },
    "nbformat": 4,
    "nbformat_minor": 2
}