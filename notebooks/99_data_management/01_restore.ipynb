{
    "cells": [
        {
            "cell_type": "markdown",
            "metadata": {},
            "source": [
                "# Restore\n",
                "Restore database from backup"
            ]
        },
        {
            "cell_type": "code",
            "execution_count": 1,
            "metadata": {},
            "outputs": [],
            "source": [
                "import os\n",
                "import pandas as pd\n",
                "from appvoc.container import AppVoCContainer\n",
                "from appvoc.data.storage.manager import DataStorageManager"
            ]
        },
        {
            "cell_type": "code",
            "execution_count": 2,
            "metadata": {},
            "outputs": [],
            "source": [
                "container = AppVoCContainer()\n",
                "container.init_resources()\n",
                "container.wire(packages=[\"appvoc.data.acquisition\", \"appvoc.data.dataset\", \"appvoc.data.storage\"]\n",
                "    )"
            ]
        },
        {
            "cell_type": "code",
            "execution_count": 3,
            "metadata": {},
            "outputs": [],
            "source": [
                "dsm = DataStorageManager()\n"
            ]
        },
        {
            "cell_type": "markdown",
            "metadata": {},
            "source": [
                "## Restore"
            ]
        },
        {
            "cell_type": "code",
            "execution_count": 4,
            "metadata": {},
            "outputs": [
                {
                    "name": "stderr",
                    "output_type": "stream",
                    "text": [
                        "mysql: [Warning] Using a password on the command line interface can be insecure.\n",
                        "[08/29/2023 04:47:31 AM] [INFO] [DataStorageManager] [restore] : Restored database from data/raw/database/appvoc_2023-08-27_T161654.sql\n"
                    ]
                }
            ],
            "source": [
                "filepath = \"data/raw/database/appvoc_2023-08-27_T161654.sql\"\n",
                "dsm.restore(filepath)"
            ]
        }
    ],
    "metadata": {
        "kernelspec": {
            "display_name": "appvoc",
            "language": "python",
            "name": "python3"
        },
        "language_info": {
            "codemirror_mode": {
                "name": "ipython",
                "version": 3
            },
            "file_extension": ".py",
            "mimetype": "text/x-python",
            "name": "python",
            "nbconvert_exporter": "python",
            "pygments_lexer": "ipython3",
            "version": "3.10.12"
        },
        "orig_nbformat": 4
    },
    "nbformat": 4,
    "nbformat_minor": 2
}