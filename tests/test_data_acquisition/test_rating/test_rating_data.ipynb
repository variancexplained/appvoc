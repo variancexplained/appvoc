{
    "cells": [
        {
            "cell_type": "markdown",
            "metadata": {},
            "source": [
                "# Create Rating Test Data\n",
                "Rating responses and batches that match"
            ]
        },
        {
            "cell_type": "code",
            "execution_count": 1,
            "metadata": {},
            "outputs": [],
            "source": [
                "from datetime import datetime\n",
                "import random\n",
                "from appvoc.container import AppVoCContainer\n",
                "from appvoc.infrastructure.file.io import IOService"
            ]
        },
        {
            "cell_type": "code",
            "execution_count": 2,
            "metadata": {},
            "outputs": [],
            "source": [
                "container = AppVoCContainer()\n",
                "container.init_resources()\n",
                "container.wire(packages=[\"appvoc.data.acquisition\"])"
            ]
        },
        {
            "cell_type": "markdown",
            "metadata": {},
            "source": [
                "## Batch"
            ]
        },
        {
            "cell_type": "code",
            "execution_count": 3,
            "metadata": {},
            "outputs": [
                {
                    "data": {
                        "text/html": [
                            "<div>\n",
                            "<style scoped>\n",
                            "    .dataframe tbody tr th:only-of-type {\n",
                            "        vertical-align: middle;\n",
                            "    }\n",
                            "\n",
                            "    .dataframe tbody tr th {\n",
                            "        vertical-align: top;\n",
                            "    }\n",
                            "\n",
                            "    .dataframe thead th {\n",
                            "        text-align: right;\n",
                            "    }\n",
                            "</style>\n",
                            "<table border=\"1\" class=\"dataframe\">\n",
                            "  <thead>\n",
                            "    <tr style=\"text-align: right;\">\n",
                            "      <th></th>\n",
                            "      <th>id</th>\n",
                            "      <th>name</th>\n",
                            "      <th>description</th>\n",
                            "      <th>category_id</th>\n",
                            "      <th>category</th>\n",
                            "      <th>price</th>\n",
                            "      <th>rating</th>\n",
                            "      <th>ratings</th>\n",
                            "      <th>developer_id</th>\n",
                            "      <th>developer</th>\n",
                            "      <th>released</th>\n",
                            "      <th>source</th>\n",
                            "    </tr>\n",
                            "  </thead>\n",
                            "  <tbody>\n",
                            "    <tr>\n",
                            "      <th>4</th>\n",
                            "      <td>352199775</td>\n",
                            "      <td>Waterlogged — Drink More Water</td>\n",
                            "      <td>Daily Hydration Tracker</td>\n",
                            "      <td>6013</td>\n",
                            "      <td>Health &amp; Fitness</td>\n",
                            "      <td>0.00</td>\n",
                            "      <td>4.50</td>\n",
                            "      <td>8122</td>\n",
                            "      <td>8265741635</td>\n",
                            "      <td>Day Logger, Inc.</td>\n",
                            "      <td>NaT</td>\n",
                            "      <td>itunes.apple.com</td>\n",
                            "    </tr>\n",
                            "    <tr>\n",
                            "      <th>0</th>\n",
                            "      <td>1020452064</td>\n",
                            "      <td>HealthView</td>\n",
                            "      <td>Health &amp; Fitness Widgets</td>\n",
                            "      <td>6013</td>\n",
                            "      <td>Health &amp; Fitness</td>\n",
                            "      <td>0.00</td>\n",
                            "      <td>4.50</td>\n",
                            "      <td>10241</td>\n",
                            "      <td>6142602430</td>\n",
                            "      <td>Reflectly ApS</td>\n",
                            "      <td>NaT</td>\n",
                            "      <td>itunes.apple.com</td>\n",
                            "    </tr>\n",
                            "    <tr>\n",
                            "      <th>2</th>\n",
                            "      <td>1490743162</td>\n",
                            "      <td>Heart Rate &amp; Stress Monitor</td>\n",
                            "      <td>Pulse,Oxygen, Pressure, Health</td>\n",
                            "      <td>6013</td>\n",
                            "      <td>Health &amp; Fitness</td>\n",
                            "      <td>0.00</td>\n",
                            "      <td>4.50</td>\n",
                            "      <td>3518</td>\n",
                            "      <td>5211830545</td>\n",
                            "      <td>Wang Fan</td>\n",
                            "      <td>NaT</td>\n",
                            "      <td>itunes.apple.com</td>\n",
                            "    </tr>\n",
                            "    <tr>\n",
                            "      <th>9</th>\n",
                            "      <td>341232718</td>\n",
                            "      <td>MyFitnessPal: Calorie Counter</td>\n",
                            "      <td>Macro, Diet &amp; Fitness Tracker</td>\n",
                            "      <td>6013</td>\n",
                            "      <td>Health &amp; Fitness</td>\n",
                            "      <td>0.00</td>\n",
                            "      <td>4.50</td>\n",
                            "      <td>2112846</td>\n",
                            "      <td>7409634429</td>\n",
                            "      <td>MyFitnessPal, Inc.</td>\n",
                            "      <td>NaT</td>\n",
                            "      <td>itunes.apple.com</td>\n",
                            "    </tr>\n",
                            "    <tr>\n",
                            "      <th>5</th>\n",
                            "      <td>352199775</td>\n",
                            "      <td>Waterlogged — Drink More Water</td>\n",
                            "      <td>Daily Hydration Tracker</td>\n",
                            "      <td>6020</td>\n",
                            "      <td>Medical</td>\n",
                            "      <td>0.00</td>\n",
                            "      <td>4.50</td>\n",
                            "      <td>8122</td>\n",
                            "      <td>4759032260</td>\n",
                            "      <td>Day Logger, Inc.</td>\n",
                            "      <td>NaT</td>\n",
                            "      <td>itunes.apple.com</td>\n",
                            "    </tr>\n",
                            "  </tbody>\n",
                            "</table>\n",
                            "</div>"
                        ],
                        "text/plain": [
                            "           id                            name                     description  \\\n",
                            "4   352199775  Waterlogged — Drink More Water         Daily Hydration Tracker   \n",
                            "0  1020452064                      HealthView        Health & Fitness Widgets   \n",
                            "2  1490743162     Heart Rate & Stress Monitor  Pulse,Oxygen, Pressure, Health   \n",
                            "9   341232718   MyFitnessPal: Calorie Counter   Macro, Diet & Fitness Tracker   \n",
                            "5   352199775  Waterlogged — Drink More Water         Daily Hydration Tracker   \n",
                            "\n",
                            "  category_id          category  price  rating  ratings developer_id  \\\n",
                            "4        6013  Health & Fitness   0.00    4.50     8122   8265741635   \n",
                            "0        6013  Health & Fitness   0.00    4.50    10241   6142602430   \n",
                            "2        6013  Health & Fitness   0.00    4.50     3518   5211830545   \n",
                            "9        6013  Health & Fitness   0.00    4.50  2112846   7409634429   \n",
                            "5        6020           Medical   0.00    4.50     8122   4759032260   \n",
                            "\n",
                            "            developer released            source  \n",
                            "4    Day Logger, Inc.      NaT  itunes.apple.com  \n",
                            "0       Reflectly ApS      NaT  itunes.apple.com  \n",
                            "2            Wang Fan      NaT  itunes.apple.com  \n",
                            "9  MyFitnessPal, Inc.      NaT  itunes.apple.com  \n",
                            "5    Day Logger, Inc.      NaT  itunes.apple.com  "
                        ]
                    },
                    "execution_count": 3,
                    "metadata": {},
                    "output_type": "execute_result"
                }
            ],
            "source": [
                "repo = container.data.appdata_repo()\n",
                "appdata = repo.sample()\n",
                "appdata\n"
            ]
        },
        {
            "cell_type": "code",
            "execution_count": 4,
            "metadata": {},
            "outputs": [],
            "source": [
                "def create_batches(appdata, batch_size=5) -> list:\n",
                "    \"\"\"Creates batches of URLs from a list of app ids\"\"\"\n",
                "    batches = []\n",
                "    apps = []\n",
                "    urls = []\n",
                "    app_dict = appdata.to_dict(orient=\"index\")\n",
                "\n",
                "    for idx, app in enumerate(app_dict.values(), start=1):\n",
                "        url = f\"https://itunes.apple.com/us/customer-reviews/id{app['id']}?displayable-kind=11\"\n",
                "        apps.append(app)\n",
                "        urls.append(url)\n",
                "        if idx % batch_size == 0:\n",
                "            batch = {\"apps\": apps, \"urls\": urls}\n",
                "            batches.append(batch)\n",
                "            apps = []\n",
                "            urls = []\n",
                "    return batches"
            ]
        },
        {
            "cell_type": "code",
            "execution_count": 5,
            "metadata": {},
            "outputs": [
                {
                    "data": {
                        "text/plain": [
                            "[{'apps': [{'id': '352199775',\n",
                            "    'name': 'Waterlogged — Drink More Water',\n",
                            "    'description': 'Daily Hydration Tracker',\n",
                            "    'category_id': '6013',\n",
                            "    'category': 'Health & Fitness',\n",
                            "    'price': 0.0,\n",
                            "    'rating': 4.5,\n",
                            "    'ratings': 8122,\n",
                            "    'developer_id': '8265741635',\n",
                            "    'developer': 'Day Logger, Inc.',\n",
                            "    'released': NaT,\n",
                            "    'source': 'itunes.apple.com'},\n",
                            "   {'id': '1020452064',\n",
                            "    'name': 'HealthView',\n",
                            "    'description': 'Health & Fitness Widgets',\n",
                            "    'category_id': '6013',\n",
                            "    'category': 'Health & Fitness',\n",
                            "    'price': 0.0,\n",
                            "    'rating': 4.5,\n",
                            "    'ratings': 10241,\n",
                            "    'developer_id': '6142602430',\n",
                            "    'developer': 'Reflectly ApS',\n",
                            "    'released': NaT,\n",
                            "    'source': 'itunes.apple.com'},\n",
                            "   {'id': '1490743162',\n",
                            "    'name': 'Heart Rate & Stress Monitor',\n",
                            "    'description': 'Pulse,Oxygen, Pressure, Health',\n",
                            "    'category_id': '6013',\n",
                            "    'category': 'Health & Fitness',\n",
                            "    'price': 0.0,\n",
                            "    'rating': 4.5,\n",
                            "    'ratings': 3518,\n",
                            "    'developer_id': '5211830545',\n",
                            "    'developer': 'Wang Fan',\n",
                            "    'released': NaT,\n",
                            "    'source': 'itunes.apple.com'},\n",
                            "   {'id': '341232718',\n",
                            "    'name': 'MyFitnessPal: Calorie Counter',\n",
                            "    'description': 'Macro, Diet & Fitness Tracker',\n",
                            "    'category_id': '6013',\n",
                            "    'category': 'Health & Fitness',\n",
                            "    'price': 0.0,\n",
                            "    'rating': 4.5,\n",
                            "    'ratings': 2112846,\n",
                            "    'developer_id': '7409634429',\n",
                            "    'developer': 'MyFitnessPal, Inc.',\n",
                            "    'released': NaT,\n",
                            "    'source': 'itunes.apple.com'},\n",
                            "   {'id': '352199775',\n",
                            "    'name': 'Waterlogged — Drink More Water',\n",
                            "    'description': 'Daily Hydration Tracker',\n",
                            "    'category_id': '6020',\n",
                            "    'category': 'Medical',\n",
                            "    'price': 0.0,\n",
                            "    'rating': 4.5,\n",
                            "    'ratings': 8122,\n",
                            "    'developer_id': '4759032260',\n",
                            "    'developer': 'Day Logger, Inc.',\n",
                            "    'released': NaT,\n",
                            "    'source': 'itunes.apple.com'}],\n",
                            "  'urls': ['https://itunes.apple.com/us/customer-reviews/id352199775?displayable-kind=11',\n",
                            "   'https://itunes.apple.com/us/customer-reviews/id1020452064?displayable-kind=11',\n",
                            "   'https://itunes.apple.com/us/customer-reviews/id1490743162?displayable-kind=11',\n",
                            "   'https://itunes.apple.com/us/customer-reviews/id341232718?displayable-kind=11',\n",
                            "   'https://itunes.apple.com/us/customer-reviews/id352199775?displayable-kind=11']}]"
                        ]
                    },
                    "execution_count": 5,
                    "metadata": {},
                    "output_type": "execute_result"
                }
            ],
            "source": [
                "batches = create_batches(appdata=appdata)\n",
                "batches"
            ]
        },
        {
            "cell_type": "markdown",
            "metadata": {},
            "source": [
                "## Responses"
            ]
        },
        {
            "cell_type": "code",
            "execution_count": 20,
            "metadata": {},
            "outputs": [],
            "source": [
                "def create_responses(batches):\n",
                "    responses = []\n",
                "    for app in batches[0][\"apps\"]:\n",
                "        print(app)\n",
                "        response = {}\n",
                "        response[\"adamId\"] = app[\"id\"][0]\n",
                "        response[\"ratingAverage\"] = random.randint(0,50)/10\n",
                "        response[\"totalNumberOfReviews\"] = random.randint(100,100000)\n",
                "        response[\"ratingCount\"] = random.randint(100,100000)\n",
                "        response[\"ratingCountList\"] = []\n",
                "        for i in range(0,5):\n",
                "            n = random.randint(1111,9999)\n",
                "            response[\"ratingCountList\"].append(n)\n",
                "        responses.append(response)\n",
                "    return responses\n"
            ]
        },
        {
            "cell_type": "code",
            "execution_count": 21,
            "metadata": {},
            "outputs": [
                {
                    "name": "stdout",
                    "output_type": "stream",
                    "text": [
                        "{'id': '352199775', 'name': 'Waterlogged — Drink More Water', 'description': 'Daily Hydration Tracker', 'category_id': '6013', 'category': 'Health & Fitness', 'price': 0.0, 'rating': 4.5, 'ratings': 8122, 'developer_id': '8265741635', 'developer': 'Day Logger, Inc.', 'released': NaT, 'source': 'itunes.apple.com'}\n",
                        "{'id': '1020452064', 'name': 'HealthView', 'description': 'Health & Fitness Widgets', 'category_id': '6013', 'category': 'Health & Fitness', 'price': 0.0, 'rating': 4.5, 'ratings': 10241, 'developer_id': '6142602430', 'developer': 'Reflectly ApS', 'released': NaT, 'source': 'itunes.apple.com'}\n",
                        "{'id': '1490743162', 'name': 'Heart Rate & Stress Monitor', 'description': 'Pulse,Oxygen, Pressure, Health', 'category_id': '6013', 'category': 'Health & Fitness', 'price': 0.0, 'rating': 4.5, 'ratings': 3518, 'developer_id': '5211830545', 'developer': 'Wang Fan', 'released': NaT, 'source': 'itunes.apple.com'}\n",
                        "{'id': '341232718', 'name': 'MyFitnessPal: Calorie Counter', 'description': 'Macro, Diet & Fitness Tracker', 'category_id': '6013', 'category': 'Health & Fitness', 'price': 0.0, 'rating': 4.5, 'ratings': 2112846, 'developer_id': '7409634429', 'developer': 'MyFitnessPal, Inc.', 'released': NaT, 'source': 'itunes.apple.com'}\n",
                        "{'id': '352199775', 'name': 'Waterlogged — Drink More Water', 'description': 'Daily Hydration Tracker', 'category_id': '6020', 'category': 'Medical', 'price': 0.0, 'rating': 4.5, 'ratings': 8122, 'developer_id': '4759032260', 'developer': 'Day Logger, Inc.', 'released': NaT, 'source': 'itunes.apple.com'}\n"
                    ]
                },
                {
                    "data": {
                        "text/plain": [
                            "[{'adamId': '3',\n",
                            "  'ratingAverage': 3.8,\n",
                            "  'totalNumberOfReviews': 30722,\n",
                            "  'ratingCount': 49512,\n",
                            "  'ratingCountList': [2539, 4610, 3695, 9348, 9798]},\n",
                            " {'adamId': '1',\n",
                            "  'ratingAverage': 2.7,\n",
                            "  'totalNumberOfReviews': 43474,\n",
                            "  'ratingCount': 56570,\n",
                            "  'ratingCountList': [7715, 5504, 6893, 4029, 4585]},\n",
                            " {'adamId': '1',\n",
                            "  'ratingAverage': 1.7,\n",
                            "  'totalNumberOfReviews': 20182,\n",
                            "  'ratingCount': 82444,\n",
                            "  'ratingCountList': [2372, 6045, 3664, 4618, 7199]},\n",
                            " {'adamId': '3',\n",
                            "  'ratingAverage': 2.1,\n",
                            "  'totalNumberOfReviews': 39671,\n",
                            "  'ratingCount': 40906,\n",
                            "  'ratingCountList': [4776, 6509, 8982, 9129, 7247]},\n",
                            " {'adamId': '3',\n",
                            "  'ratingAverage': 4.0,\n",
                            "  'totalNumberOfReviews': 76927,\n",
                            "  'ratingCount': 20188,\n",
                            "  'ratingCountList': [2557, 7512, 2030, 8887, 6170]}]"
                        ]
                    },
                    "execution_count": 21,
                    "metadata": {},
                    "output_type": "execute_result"
                }
            ],
            "source": [
                "responses = create_responses(batches)\n",
                "responses"
            ]
        }
    ],
    "metadata": {
        "kernelspec": {
            "display_name": "appvoc",
            "language": "python",
            "name": "python3"
        },
        "language_info": {
            "codemirror_mode": {
                "name": "ipython",
                "version": 3
            },
            "file_extension": ".py",
            "mimetype": "text/x-python",
            "name": "python",
            "nbconvert_exporter": "python",
            "pygments_lexer": "ipython3",
            "version": "3.10.12"
        },
        "orig_nbformat": 4
    },
    "nbformat": 4,
    "nbformat_minor": 2
}