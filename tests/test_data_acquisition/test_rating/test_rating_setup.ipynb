{
    "cells": [
        {
            "cell_type": "markdown",
            "metadata": {},
            "source": [
                "# Ratings Setup\n"
            ]
        },
        {
            "cell_type": "code",
            "execution_count": 1,
            "metadata": {},
            "outputs": [],
            "source": [
                "import os\n",
                "import dotenv\n",
                "from datetime import datetime\n",
                "\n",
                "import pandas as pd\n",
                "\n",
                "from appvoc.container import AppVoCContainer\n",
                "from appvoc.infrastructure.file.io import IOService"
            ]
        },
        {
            "cell_type": "code",
            "execution_count": 2,
            "metadata": {},
            "outputs": [
                {
                    "data": {
                        "text/plain": [
                            "True"
                        ]
                    },
                    "execution_count": 2,
                    "metadata": {},
                    "output_type": "execute_result"
                },
                {
                    "data": {
                        "text/plain": [
                            "(True, 'MODE', 'test')"
                        ]
                    },
                    "execution_count": 2,
                    "metadata": {},
                    "output_type": "execute_result"
                }
            ],
            "source": [
                "dotenv_file = dotenv.find_dotenv()\n",
                "dotenv.load_dotenv(dotenv_file)\n",
                "prior_mode = os.environ[\"MODE\"]\n",
                "os.environ[\"MODE\"] = \"test\"\n",
                "dotenv.set_key(dotenv_file, \"MODE\", os.environ[\"MODE\"])"
            ]
        },
        {
            "cell_type": "code",
            "execution_count": 3,
            "metadata": {},
            "outputs": [],
            "source": [
                "container = AppVoCContainer()\n",
                "container.init_resources()\n",
                "container.wire(packages=[\"appvoc.data.acquisition\"])"
            ]
        },
        {
            "cell_type": "code",
            "execution_count": 4,
            "metadata": {},
            "outputs": [],
            "source": [
                "FP_JOBS = \"tests/data/rating/jobs.csv\"\n",
                "FP_JOBRUNS = \"tests/data/rating/rating_jobrun.csv\"\n",
                "FP_APPDATA = \"data/archive/appdata/appdata_07-29-2023_17-16-45.pkl\"\n",
                "FP_APPDATA_TEST = \"tests/data/rating/appdata_ctrl_test.csv\""
            ]
        },
        {
            "cell_type": "markdown",
            "metadata": {},
            "source": [
                "## AppData\n",
                "Reset app data to category_ids 6015, and 6020, five apps each."
            ]
        },
        {
            "cell_type": "code",
            "execution_count": 5,
            "metadata": {},
            "outputs": [
                {
                    "name": "stderr",
                    "output_type": "stream",
                    "text": [
                        "[08/08/2023 10:37:39 AM] [DEBUG] [AppDataRepo] [replace] : Replaced appdata repository data with 475132 rows.\n",
                        "[08/08/2023 10:37:47 AM] [DEBUG] [AppDataRepo] [replace] : Replaced appdata repository data with 10 rows.\n"
                    ]
                }
            ],
            "source": [
                "df = IOService.read(FP_APPDATA)\n",
                "repo = container.data.appdata_repo()\n",
                "repo.replace(df)\n",
                "df1 = repo.sample(n=5, category_id=\"6015\")\n",
                "df2 = repo.sample(n=5, category_id=\"6020\")\n",
                "df = pd.concat([df1,df2], axis=0)\n",
                "IOService.write(filepath=FP_APPDATA_TEST, data=df)\n",
                "repo.replace(data=df)"
            ]
        },
        {
            "cell_type": "markdown",
            "metadata": {},
            "source": [
                "## Jobs"
            ]
        },
        {
            "cell_type": "code",
            "execution_count": 6,
            "metadata": {},
            "outputs": [
                {
                    "name": "stderr",
                    "output_type": "stream",
                    "text": [
                        "/home/john/projects/appvoc/appvoc/data/storage/base.py:271: UserWarning: The argument 'infer_datetime_format' is deprecated and will be removed in a future version. A strict version of it is now the default, see https://pandas.pydata.org/pdeps/0004-consistent-to-datetime-parsing.html. You can safely remove this argument.\n",
                        "  data[dtcol] = pd.to_datetime(data[dtcol])\n",
                        "[08/08/2023 10:37:47 AM] [DEBUG] [JobRepo] [replace] : Added 24 rows to the job repository.\n"
                    ]
                }
            ],
            "source": [
                "df = IOService.read(FP_JOBS)\n",
                "repo = container.data.job_repo()\n",
                "repo.replace(data=df)"
            ]
        },
        {
            "cell_type": "markdown",
            "metadata": {},
            "source": [
                "## Job Run"
            ]
        },
        {
            "cell_type": "code",
            "execution_count": 7,
            "metadata": {},
            "outputs": [
                {
                    "name": "stderr",
                    "output_type": "stream",
                    "text": [
                        "/home/john/projects/appvoc/appvoc/data/storage/base.py:271: UserWarning: The argument 'infer_datetime_format' is deprecated and will be removed in a future version. A strict version of it is now the default, see https://pandas.pydata.org/pdeps/0004-consistent-to-datetime-parsing.html. You can safely remove this argument.\n",
                        "  data[dtcol] = pd.to_datetime(data[dtcol])\n",
                        "/home/john/projects/appvoc/appvoc/data/storage/base.py:271: UserWarning: The argument 'infer_datetime_format' is deprecated and will be removed in a future version. A strict version of it is now the default, see https://pandas.pydata.org/pdeps/0004-consistent-to-datetime-parsing.html. You can safely remove this argument.\n",
                        "  data[dtcol] = pd.to_datetime(data[dtcol])\n",
                        "/home/john/projects/appvoc/appvoc/data/storage/base.py:271: UserWarning: The argument 'infer_datetime_format' is deprecated and will be removed in a future version. A strict version of it is now the default, see https://pandas.pydata.org/pdeps/0004-consistent-to-datetime-parsing.html. You can safely remove this argument.\n",
                        "  data[dtcol] = pd.to_datetime(data[dtcol])\n",
                        "[08/08/2023 10:37:47 AM] [DEBUG] [RatingJobRunRepo] [replace] : Replace rating_jobrun repository data with 1 rows.\n"
                    ]
                }
            ],
            "source": [
                "df = IOService.read(FP_JOBRUNS)\n",
                "repo = container.data.rating_jobrun_repo()\n",
                "repo.replace(data=df)"
            ]
        }
    ],
    "metadata": {
        "kernelspec": {
            "display_name": "appvoc",
            "language": "python",
            "name": "python3"
        },
        "language_info": {
            "codemirror_mode": {
                "name": "ipython",
                "version": 3
            },
            "file_extension": ".py",
            "mimetype": "text/x-python",
            "name": "python",
            "nbconvert_exporter": "python",
            "pygments_lexer": "ipython3",
            "version": "3.10.12"
        },
        "orig_nbformat": 4
    },
    "nbformat": 4,
    "nbformat_minor": 2
}